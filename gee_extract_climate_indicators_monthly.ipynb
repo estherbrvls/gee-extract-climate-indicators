{
  "cells": [
    {
      "cell_type": "markdown",
      "source": [
        "**This script extracts climate relevant indicators on a monthly basis for different aggregation layers as csv table.**\n",
        "\n",
        "Per aggregation layer, the script exports\n",
        "- 1 csv table including all climate indicators (except groundwater) starting in 2017\n",
        "- 1 csv table including groundwater storage anomaly starting in 2003\n",
        "\n",
        "Possible improvements:\n",
        "- For hexagon aggregation - remove hexagons with only few pixels of cropland as aggregated values based on few pixels might be misleading.\n",
        "- Add option to export seasonal anomalies for each indicator to be able to compare between years/seasons more easily.\n",
        "- Calculate rainfall and SPI monthly composites \"on the fly\" (currently pre-calculated and images exported to ee assets in a seperate javascript script).\n",
        "- Add soil moisture anomalies (currently monthly soil moisture is calculated without comparing to a baseline).\n",
        "- Add Vegetation Health Index (VHI). VHI combines Vegetation Condition Index (VCI) and Temperature Condition Index (TCI) https://code.earthengine.google.com/30cdc809525be6bf0fd5e50b243ca6e0\n",
        "- Add Standard Precipitation Evaporation Index (SPEI)\n",
        "\n",
        "\n",
        "\n"
      ],
      "metadata": {
        "id": "TzB9tPOB8RqQ"
      }
    },
    {
      "cell_type": "code",
      "execution_count": null,
      "metadata": {
        "id": "En1eJzT2HwPX"
      },
      "outputs": [],
      "source": [
        "#@title Install packages { display-mode: \"form\" }\n",
        "%%capture\n",
        "# !pip install geopAndas\n",
        "!pip install mycolorpy\n",
        "!pip install geemap"
      ]
    },
    {
      "cell_type": "code",
      "execution_count": null,
      "metadata": {
        "id": "G87xoxFJJquv"
      },
      "outputs": [],
      "source": [
        "# Import libraries\n",
        "import numpy  as np\n",
        "import datetime\n",
        "from datetime import datetime\n",
        "from dateutil.relativedelta import relativedelta\n",
        "import pandas as pd\n",
        "import matplotlib as mpl\n",
        "import matplotlib.pyplot as plt\n",
        "import matplotlib.dates as mdates\n",
        "from matplotlib.dates import DateFormatter, YearLocator\n",
        "from matplotlib.cm import ScalarMappable\n",
        "from mycolorpy import colorlist as mcp\n",
        "from sklearn import datasets, linear_model\n",
        "import statsmodels.api as sm\n",
        "import sys\n",
        "# from pprint import pprint\n",
        "from google.colab import files\n",
        "import folium\n",
        "import geemap\n",
        "import ee"
      ]
    },
    {
      "cell_type": "code",
      "execution_count": null,
      "metadata": {
        "colab": {
          "base_uri": "https://localhost:8080/",
          "height": 17
        },
        "id": "GEjCY23tHxQK",
        "outputId": "8d277b59-f403-447b-f3fe-2f45775ef694"
      },
      "outputs": [
        {
          "output_type": "display_data",
          "data": {
            "text/plain": [
              "<IPython.core.display.HTML object>"
            ],
            "text/html": [
              "\n",
              "            <style>\n",
              "                .geemap-dark {\n",
              "                    --jp-widgets-color: white;\n",
              "                    --jp-widgets-label-color: white;\n",
              "                    --jp-ui-font-color1: white;\n",
              "                    --jp-layout-color2: #454545;\n",
              "                    background-color: #383838;\n",
              "                }\n",
              "\n",
              "                .geemap-dark .jupyter-button {\n",
              "                    --jp-layout-color3: #383838;\n",
              "                }\n",
              "\n",
              "                .geemap-colab {\n",
              "                    background-color: var(--colab-primary-surface-color, white);\n",
              "                }\n",
              "\n",
              "                .geemap-colab .jupyter-button {\n",
              "                    --jp-layout-color3: var(--colab-primary-surface-color, white);\n",
              "                }\n",
              "            </style>\n",
              "            "
            ]
          },
          "metadata": {}
        }
      ],
      "source": [
        "# Trigger the authentication flow.\n",
        "ee.Authenticate()\n",
        "ee.Initialize(project='ee-reachsyriagee')"
      ]
    },
    {
      "cell_type": "code",
      "source": [
        "# Mount to Google Drive\n",
        "from google.colab import drive\n",
        "drive.mount('/drive') # /content/drive"
      ],
      "metadata": {
        "colab": {
          "base_uri": "https://localhost:8080/",
          "height": 35
        },
        "id": "72iwyoW3xWB8",
        "outputId": "cfef92cc-8d21-46b6-dad7-b32af3eeaac4"
      },
      "execution_count": null,
      "outputs": [
        {
          "output_type": "display_data",
          "data": {
            "text/plain": [
              "<IPython.core.display.HTML object>"
            ],
            "text/html": [
              "\n",
              "            <style>\n",
              "                .geemap-dark {\n",
              "                    --jp-widgets-color: white;\n",
              "                    --jp-widgets-label-color: white;\n",
              "                    --jp-ui-font-color1: white;\n",
              "                    --jp-layout-color2: #454545;\n",
              "                    background-color: #383838;\n",
              "                }\n",
              "\n",
              "                .geemap-dark .jupyter-button {\n",
              "                    --jp-layout-color3: #383838;\n",
              "                }\n",
              "\n",
              "                .geemap-colab {\n",
              "                    background-color: var(--colab-primary-surface-color, white);\n",
              "                }\n",
              "\n",
              "                .geemap-colab .jupyter-button {\n",
              "                    --jp-layout-color3: var(--colab-primary-surface-color, white);\n",
              "                }\n",
              "            </style>\n",
              "            "
            ]
          },
          "metadata": {}
        },
        {
          "output_type": "stream",
          "name": "stdout",
          "text": [
            "Mounted at /drive\n"
          ]
        }
      ]
    },
    {
      "cell_type": "code",
      "source": [
        "# Change recursion limit to avoid running into error when generating groundwater monthly image collection, otherwise too many recursions to call eeobject. See https://www.geeksforgeeks.org/python-sys-setrecursionlimit-method/\n",
        "# limit = sys.getrecursionlimit()\n",
        "# print('Before changing, limit of stack =', limit) # Print the current limit\n",
        "Newlimit = 10000 # New limit\n",
        "sys.setrecursionlimit(Newlimit) # Using sys.setrecursionlimit() method to find the current recursion limit\n",
        "limit = sys.getrecursionlimit()\n",
        "# print('After changing, limit of stack =', limit) # Print the current limit"
      ],
      "metadata": {
        "id": "mUZXB-q3LiTe",
        "colab": {
          "base_uri": "https://localhost:8080/",
          "height": 17
        },
        "outputId": "15be0699-59d9-4a44-bf45-f3c495f3859a"
      },
      "execution_count": null,
      "outputs": [
        {
          "output_type": "display_data",
          "data": {
            "text/plain": [
              "<IPython.core.display.HTML object>"
            ],
            "text/html": [
              "\n",
              "            <style>\n",
              "                .geemap-dark {\n",
              "                    --jp-widgets-color: white;\n",
              "                    --jp-widgets-label-color: white;\n",
              "                    --jp-ui-font-color1: white;\n",
              "                    --jp-layout-color2: #454545;\n",
              "                    background-color: #383838;\n",
              "                }\n",
              "\n",
              "                .geemap-dark .jupyter-button {\n",
              "                    --jp-layout-color3: #383838;\n",
              "                }\n",
              "\n",
              "                .geemap-colab {\n",
              "                    background-color: var(--colab-primary-surface-color, white);\n",
              "                }\n",
              "\n",
              "                .geemap-colab .jupyter-button {\n",
              "                    --jp-layout-color3: var(--colab-primary-surface-color, white);\n",
              "                }\n",
              "            </style>\n",
              "            "
            ]
          },
          "metadata": {}
        }
      ]
    },
    {
      "cell_type": "markdown",
      "metadata": {
        "id": "X4bROerbe_no"
      },
      "source": [
        "## Functions"
      ]
    },
    {
      "cell_type": "code",
      "execution_count": null,
      "metadata": {
        "colab": {
          "base_uri": "https://localhost:8080/",
          "height": 17
        },
        "id": "gzctiSWsa8KB",
        "outputId": "154dad4b-5852-487c-815f-c418497a2305"
      },
      "outputs": [
        {
          "output_type": "display_data",
          "data": {
            "text/plain": [
              "<IPython.core.display.HTML object>"
            ],
            "text/html": [
              "\n",
              "            <style>\n",
              "                .geemap-dark {\n",
              "                    --jp-widgets-color: white;\n",
              "                    --jp-widgets-label-color: white;\n",
              "                    --jp-ui-font-color1: white;\n",
              "                    --jp-layout-color2: #454545;\n",
              "                    background-color: #383838;\n",
              "                }\n",
              "\n",
              "                .geemap-dark .jupyter-button {\n",
              "                    --jp-layout-color3: #383838;\n",
              "                }\n",
              "\n",
              "                .geemap-colab {\n",
              "                    background-color: var(--colab-primary-surface-color, white);\n",
              "                }\n",
              "\n",
              "                .geemap-colab .jupyter-button {\n",
              "                    --jp-layout-color3: var(--colab-primary-surface-color, white);\n",
              "                }\n",
              "            </style>\n",
              "            "
            ]
          },
          "metadata": {}
        }
      ],
      "source": [
        "# Generate image collections from assets\n",
        "def generateCollectionFromAssets(imageNameBase,startYear, startMonth, endYear, endMonth):\n",
        "  imageNameList =  ee.List([]);\n",
        "\n",
        "  for j in range(startYear, endYear+1):\n",
        "    for i in range (1, 13):\n",
        "      if (j == startYear and i < startMonth):\n",
        "        continue\n",
        "      elif (j == endYear and i > endMonth):\n",
        "        break\n",
        "\n",
        "      # if (j < endYear and j > startYear) or (j == endYear and i <= endMonth) or (j == startYear and i >= startMonth):\n",
        "      file_name = imageNameBase + str(j) + \"_\" + str(i);\n",
        "      # print(file_name)\n",
        "      image = ee.Image(file_name).set(\"month\", i).set(\"year\", j).set('system:time_start',ee.Date.fromYMD(j, i, 1).millis());\n",
        "      imageNameList = imageNameList.add(image)\n",
        "\n",
        "  return ee.ImageCollection(imageNameList)\n",
        "\n",
        "def generateCollectionCropland (imageNameBase, startYear, endYear):\n",
        "  years = [x for x in range(startYear, endYear+1)]\n",
        "  imageNameList =  ee.List([]);\n",
        "\n",
        "  for i in range(len(years)):\n",
        "    file_name = imageNameBase + str(years[i]-1) + \"_\" + str(years[i])\n",
        "    image = ee.Image(file_name).set('system:time_start', ee.Date(ee.Number(years[i]).format()))\n",
        "    imageNameList = imageNameList.add(image)\n",
        "\n",
        "  return ee.ImageCollection(imageNameList)\n",
        "\n",
        "def generateCollection_monthly_hist(imageNameBase):\n",
        " months = [1,2,3,4,5,6,7,8,9,10,11,12]\n",
        " imageNameList =  ee.List([])\n",
        "\n",
        " for i in months:\n",
        "  file_name = imageNameBase + str(i)\n",
        "  image = ee.Image(file_name).set('system:time_start', ee.Date.fromYMD(1981, i, 1).millis())\n",
        "  imageNameList = imageNameList.add(image)\n",
        "\n",
        " return ee.ImageCollection(imageNameList)\n",
        "\n",
        "def generateCollectionAnnual (imageNameBase, startYear, endYear):\n",
        "  years = [x for x in range(startYear, endYear+1)]\n",
        "  imageNameList =  ee.List([]);\n",
        "\n",
        "  for i in range(len(years)):\n",
        "    file_name = imageNameBase + str(years[i])\n",
        "    image = ee.Image(file_name).set('system:time_start', ee.Date(ee.Number(years[i]).format()).millis())\n",
        "    imageNameList = imageNameList.add(image)\n",
        "\n",
        "  return ee.ImageCollection(imageNameList)\n",
        "\n",
        "# Define a method for displaying Earth Engine image tiles on a folium map.\n",
        "def add_ee_layer(self, ee_object, vis_params, name):\n",
        "\n",
        "    try:\n",
        "        # display ee.Image()\n",
        "        if isinstance(ee_object, ee.image.Image):\n",
        "            map_id_dict = ee.Image(ee_object).getMapId(vis_params)\n",
        "            folium.raster_layers.TileLayer(\n",
        "            tiles = map_id_dict['tile_fetcher'].url_format,\n",
        "            attr = 'Google Earth Engine',\n",
        "            name = name,\n",
        "            overlay = True,\n",
        "            control = True\n",
        "            ).add_to(self)\n",
        "        # display ee.ImageCollection()\n",
        "        elif isinstance(ee_object, ee.imagecollection.ImageCollection):\n",
        "            ee_object_new = ee_object.mosaic()\n",
        "            map_id_dict = ee.Image(ee_object_new).getMapId(vis_params)\n",
        "            folium.raster_layers.TileLayer(\n",
        "            tiles = map_id_dict['tile_fetcher'].url_format,\n",
        "            attr = 'Google Earth Engine',\n",
        "            name = name,\n",
        "            overlay = True,\n",
        "            control = True\n",
        "            ).add_to(self)\n",
        "        # display ee.Geometry()\n",
        "        elif isinstance(ee_object, ee.geometry.Geometry):\n",
        "            folium.GeoJson(\n",
        "            data = ee_object.getInfo(),\n",
        "            name = name,\n",
        "            overlay = True,\n",
        "            control = True\n",
        "        ).add_to(self)\n",
        "        # display ee.FeatureCollection()\n",
        "        elif isinstance(ee_object, ee.featurecollection.FeatureCollection):\n",
        "            ee_object_new = ee.Image().paint(ee_object, 0, 2)\n",
        "            map_id_dict = ee.Image(ee_object_new).getMapId(vis_params)\n",
        "            folium.raster_layers.TileLayer(\n",
        "            tiles = map_id_dict['tile_fetcher'].url_format,\n",
        "            attr = 'Google Earth Engine',\n",
        "            name = name,\n",
        "            overlay = True,\n",
        "            control = True\n",
        "        ).add_to(self)\n",
        "\n",
        "    except:\n",
        "        print(\"Could not display {}\".format(name))\n",
        "\n",
        "def bitwiseExtract(input, fromBit, toBit):\n",
        "# https://spatialthoughts.com/2021/08/19/qa-bAnds-bitmasks-gee/\n",
        "  maskSize = ee.Number(1).add(toBit).subtract(fromBit)\n",
        "  mask = ee.Number(1).leftShift(maskSize).subtract(1)\n",
        "  return input.rightShift(fromBit).bitwiseAnd(mask)\n",
        "\n",
        "# Cloud masking for MODIS-8 day\n",
        "def maskCloudsMODIS8(image):\n",
        "  # Select the QA bAnd.\n",
        "  QA = image.select('State')\n",
        "  # Use all possible bits to mask clouds And snow\n",
        "  cloudState = bitwiseExtract(QA, 0, 1).eq(0)\n",
        "  cirrus = bitwiseExtract(QA, 8, 9).eq(0)\n",
        "  cloudAlgo = QA.bitwiseAnd(1 << 10).eq(0)\n",
        "  cloudShadow = QA.bitwiseAnd(1 << 2).eq(0)\n",
        "  snow = QA.bitwiseAnd(1 << 12).eq(0)\n",
        "  snowAlgo = QA.bitwiseAnd(1 << 15).eq(0)\n",
        "  adjacentToCloud = QA.bitwiseAnd(1 << 13).eq(0)\n",
        "\n",
        "  mask = cloudState.And(cirrus).And(cloudAlgo).And(cloudShadow).And(snow).And(snowAlgo).And(adjacentToCloud)\n",
        "\n",
        "  return image.updateMask(mask)\n",
        "\n",
        "# Functions to temporally aggregate image collections\n",
        "def composite_monthly_median(imgCol, date_range):\n",
        "  return ee.ImageCollection.fromImages(\\\n",
        "      date_range.map(lambda date: imgCol.filterDate(ee.Date(date), ee.Date(date).advance(1,'month')).median()\\\n",
        "                     .set('year', ee.Date(date).get('year'))\\\n",
        "                     .set('month', ee.Date(date).get('month'))\\\n",
        "                     .set('Date', ee.Date(date).format('YYYY-MM'))\\\n",
        "                     .set('system:time_start', ee.Date(date).millis())\\\n",
        "                     .set('number_images', imgCol.filterDate(ee.Date(date), ee.Date(date).advance(1,'month')).size())))\n",
        "\n",
        "# def composite_monthly_mean(imgCol, date_range):\n",
        "#   return ee.ImageCollection.fromImages(\\\n",
        "#       date_range.map(lambda date: imgCol.filterDate(ee.Date(date), ee.Date(date).advance(1,'month')).mean()\\\n",
        "#                      .set('year', ee.Date(date).get('year'))\\\n",
        "#                      .set('month', ee.Date(date).get('month'))\\\n",
        "#                      .set('Date', ee.Date(date).format('YYYY-MM'))\\\n",
        "#                      .set('system:time_start', ee.Date(date).millis())\\\n",
        "#                      .set('number_images', imgCol.filterDate(ee.Date(date), ee.Date(date).advance(1,'month')).size())))\n",
        "\n",
        "\n",
        "def composite_monthly_mean(imgCol, date_range, bandName):\n",
        "\n",
        "  def filter_imgCol (imgCol,date):\n",
        "      return imgCol.filterDate(ee.Date(date), ee.Date(date).advance(1,'month'))\n",
        "\n",
        "  def mean_image (imgCol, date):\n",
        "    filtered_imgCol = filter_imgCol(imgCol, date)\n",
        "    filtered_mean = filtered_imgCol.mean()\n",
        "    filtered_size = filtered_imgCol.size()\n",
        "    return filtered_mean.set('year', ee.Date(date).get('year'))\\\n",
        "      .set('month', ee.Date(date).get('month'))\\\n",
        "      .set('Date', ee.Date(date).format('YYYY-MM'))\\\n",
        "      .set('system:time_start', ee.Date(date).millis())\\\n",
        "      .set('number_images', filtered_size)\n",
        "\n",
        "  def no_data_image (date):\n",
        "    return ee.Image([-99999]).rename(bandName).set('year', ee.Date(date).get('year'))\\\n",
        "      .set('month', ee.Date(date).get('month'))\\\n",
        "      .set('Date', ee.Date(date).format('YYYY-MM'))\\\n",
        "      .set('system:time_start', ee.Date(date).millis())\\\n",
        "      .set('number_images', ee.Number(0))\n",
        "\n",
        "  return ee.ImageCollection.fromImages(date_range.map(lambda date: ee.Algorithms.If(filter_imgCol(imgCol, date).size(), mean_image(imgCol, date), no_data_image(date))))\n",
        "\n",
        "\n",
        "def make_historical_median_monthly(imgCol, months_list):\n",
        "    return ee.ImageCollection.fromImages(\\\n",
        "      months_list.map(lambda month: imgCol.filter(ee.Filter.calendarRange(month,month,'month'))\\\n",
        "      .median().set('month', ee.Number(month))));\n",
        "def make_historical_mean_monthly(imgCol, months_list):\n",
        "    return ee.ImageCollection.fromImages(\\\n",
        "      months_list.map(lambda month: imgCol.filter(ee.Filter.calendarRange(month,month,'month'))\\\n",
        "      .mean().set('month', ee.Number(month))));\n",
        "\n",
        "def map_calculate_anomaly_monthly(imgCol, monthly_averages):\n",
        "  return imgCol.map(lambda img: ee.Algorithms.If(img.bandNames(),\\\n",
        "                                                  img.subtract(monthly_averages.filterMetadata('month', 'equals', img.get('month')).first()).copyProperties(img, img.propertyNames()).set('isNull', 'false'),\\\n",
        "                                                  ee.Image([0]).mask(0).copyProperties(img, img.propertyNames()).set('isNull', 'true')))\n",
        "def map_calculate_anomaly_perc_monthly(imgCol, monthly_averages):\n",
        "  return imgCol.map(lambda img: ee.Algorithms.If(img.bandNames(),\\\n",
        "                                                  img.subtract(monthly_averages.filterMetadata('month', 'equals', img.get('month')).first()).divide(monthly_averages.filterMetadata('month', 'equals', img.get('month')).first()).multiply(100).copyProperties(img, img.propertyNames()).set('isNull', 'false'),\\\n",
        "                                                  ee.Image([0]).mask(0).copyProperties(img, img.propertyNames()).set('isNull', 'true')))\n",
        "\n",
        "# Other functions\n",
        "def make_date_range_monthly(start, end):\n",
        "  n_months = end.difference(start, 'month').round().subtract(1);\n",
        "  range = ee.List.sequence(0, n_months,1);\n",
        "  def make_datelist(n):\n",
        "    return start.advance(n,'month')\n",
        "\n",
        "  return range.map(make_datelist);\n",
        "\n",
        "\n",
        "def convert_coll_to_clientDict(imgCol, propNames_list):\n",
        "  n = len(propNames_list)\n",
        "  propVals = imgCol.reduceColumns(reducer = ee.Reducer.toList().repeat(n), selectors = propNames_list).get('list');\n",
        "  dict_EE = ee.Dictionary.fromLists(propNames_list, propVals);\n",
        "  clientDict = dict_EE.getInfo();\n",
        "\n",
        "  return clientDict\n",
        "\n",
        "def add_reduceRegion_as_property_to_imgcol(imgcol, bandnames, reducer, scale, aoi):\n",
        "\n",
        "  def addProp (img):\n",
        "    img = img.select(bandnames)\n",
        "\n",
        "    dictionary = img.reduceRegion(\n",
        "      geometry = aoi,\\\n",
        "      reducer = reducer,\\\n",
        "      scale = scale,\\\n",
        "      maxPixels = 1e9,\\\n",
        "      tileScale = 16\\\n",
        "    )\n",
        "    return img.set(dictionary).set('Date', ee.Image(img).date().format('YYYY-MM-dd'))\n",
        "  return imgcol.map(addProp)\n",
        "\n",
        "def convert_imgcol_to_df (imgcol, bandnames, reducer, scale, aoi):\n",
        "  # input imgcol must have a time stamp, bandnames = [], reducer = ee.Reducer, scale = int, aoi = ee.Geometry()\n",
        "\n",
        "  imgcol = add_reduceRegion_as_property_to_imgcol(imgcol, bandnames, reducer, scale, aoi)\n",
        "  propNames = ['Date'] + bandnames # property names\n",
        "  dict_ = convert_coll_to_clientDict(imgcol, propNames) # convert image collection to dict\n",
        "  df = pd.DataFrame(dict_) # convert dict to df\n",
        "  df['Date'] = pd.to_datetime(df['Date']) # convert object to datetime\n",
        "\n",
        "  return df\n",
        "\n",
        "def reduceProperty(feat, property):\n",
        "  properties = feat.propertyNames()\n",
        "  selectProperties = properties.filter(ee.Filter.eq('item', property))\n",
        "  return feat.select(selectProperties)\n",
        "\n",
        "def catImages(feature): return ee.Image.cat(feature.get('primary'), feature.get('secondary'));\n",
        "\n",
        "# FORMAT to features with 3 properties (columns in the output table)\n",
        "\n",
        "def aggregate_to_fc_flattened_mean(coll, fc, scale, start, end, property_selectors, variable_name):\n",
        "\n",
        "    def map_func(image): # if reducing an image collection with only 1 band, the reduced property name will automatically be named after the ee.Reducer(), so 'mean' - if more than 1 band, it will use band names, e.g. NDVI and NDVI_anom\n",
        "        reduced_regions = image.reduceRegions(collection=fc, reducer=ee.Reducer.mean(), scale=scale, tileScale=16).filter(ee.Filter.neq('mean', None)).select(property_selectors.add('mean'))\n",
        "\n",
        "        def inner_map_func(f):\n",
        "            date = image.get('system:time_start')\n",
        "            date_format = ee.Date(date).format('YYYY-MM')\n",
        "            id_combined = ee.String(f.get(id_column_name)).cat('_').cat(date_format)\n",
        "            return f.set('Date', date_format).set(row_id, id_combined).setGeometry(None)\n",
        "\n",
        "        mapped_regions = reduced_regions.map(inner_map_func)\n",
        "        return mapped_regions\n",
        "\n",
        "    # Filter collection by date\n",
        "    coll_filtered = coll.filterDate(ee.Date(start), ee.Date(end).advance(1, 'month'))\n",
        "\n",
        "    # Apply mapping function to the filtered collection\n",
        "    mapped_collection = coll_filtered.map(map_func)\n",
        "\n",
        "    # Flatten the mapped collection\n",
        "    flattened_collection = mapped_collection.flatten()\n",
        "    # Remove and change property names\n",
        "    prop_names = flattened_collection.first().propertyNames().remove('system:index')\n",
        "    prop_names_new = prop_names.replace('mean', variable_name)\n",
        "    flattened_collection = flattened_collection.select(prop_names, prop_names_new)\n",
        "\n",
        "\n",
        "    return flattened_collection\n",
        "\n",
        "# Function to join feature collections with 1 variable each to each other\n",
        "def join_fc(fc1, fc2, id_name, variable_name_fc2):\n",
        "    joined = ee.Join.saveAll('matches').apply(\n",
        "        primary=fc1,\n",
        "        secondary=fc2.select([id_name, variable_name_fc2]),\n",
        "        condition=ee.Filter.equals(\n",
        "            leftField=id_name,\n",
        "            rightField=id_name\n",
        "        )\n",
        "    ).map(lambda row: row.set(variable_name_fc2, ee.Feature(ee.List(row.get('matches')).get(0)).get(variable_name_fc2)))\n",
        "\n",
        "    return joined\n",
        "# printing\n",
        "class color:\n",
        "   PURPLE = '\\033[95m'\n",
        "   CYAN = '\\033[96m'\n",
        "   DARKCYAN = '\\033[36m'\n",
        "   BLUE = '\\033[94m'\n",
        "   GREEN = '\\033[92m'\n",
        "   YELLOW = '\\033[93m'\n",
        "   RED = '\\033[91m'\n",
        "   BOLD = '\\033[1m'\n",
        "   ITALIC = '\\033[3m'\n",
        "   UNDERLINE = '\\033[4m'\n",
        "   END = '\\033[0m'"
      ]
    },
    {
      "cell_type": "markdown",
      "source": [
        "## Set update parameters"
      ],
      "metadata": {
        "id": "lDi7bLe8jZ3y"
      }
    },
    {
      "cell_type": "markdown",
      "source": [
        "*   Define start and end date of time series to export (format: 'YYYY-mm-01')\n",
        "*   last date is inclusive\n",
        "\n",
        "\n",
        "**EXAMPLES**\n",
        "\n",
        "**Climate indicators** (all except groundwater)\n",
        "\n",
        "Update current table with May 2024:\n",
        "*   `update_table_climate = True `\n",
        "*   `start_date_export = '2024-05-01'; last_date_export = '2024-05-01'`\n",
        "\n",
        "Update current table with March - May 2024:\n",
        "*   `update_table_climate = True `\n",
        "*   `start_date_export = '2024-03-01'; last_date_export = '2024-05-01'`\n",
        "\n",
        "Create new table including full time series (useful if new indicators will be added or shapefile column names will change)\n",
        "*   `update_table_climate = False `\n",
        "*   `start_date_export = '2017-01-01'; last_date_export = ...   `\n",
        "\n",
        "**Groundwater**\n",
        "\n",
        "Create new table including full time series with new end date\n",
        "*   `start_date_gws_export = '2003-03-01'; last_date_gws_export = '2023-11-01'`\n",
        "    \n",
        "\n",
        "   \n",
        "     \n",
        "    \n",
        "    \n",
        "  \n",
        "     \n",
        "    "
      ],
      "metadata": {
        "id": "uiSZP-bwveu4"
      }
    },
    {
      "cell_type": "code",
      "source": [
        "update_table_climate = True # True to add new data to exisitng csv table (update table) - False to create a new base csv table\n",
        "\n",
        "# Climate indicators (all except groundwater)\n",
        "start_date_export = '2024-04-01'\n",
        "last_date_export = '2024-05-01' # inclusive\n",
        "\n",
        "last_date_current_csv = '2024-03-01' # ignore if update_table_climate = False\n",
        "first_date_current_csv = '2017-01-01'\n",
        "\n",
        "# Groundwater (no option to update, create new table)\n",
        "start_date_gws_export = '2003-02-01'\n",
        "last_date_gws_export = '2023-11-01'\n",
        "\n",
        "# Folder path that stores csv tables\n",
        "gdrive_output_folder =  '/drive/My Drive/Climate_monitoring/climate_indicator_time_series_monthly/' #  to save updated climate indicator table (pd.dataframe) as CSV. Slash mandatory in the end of the string\n",
        "gdrive_output_folder_new_table = 'climate_indicator_time_series_monthly' # to save new csv table, exported from ee.FeatureCollection as CSV. ee export function does not take folder path, only name of lowest sub folder\n",
        "\n",
        "\n",
        "# Select AOIs (aggregation layers)\n",
        "AOI_names = ['ADM1', 'ADM2', 'ADM3', 'Hex', 'Agri_ADM1', 'Agri_ADM2'] # list of AOI names to iterate through\n",
        "\n",
        "id_column_name = 'MASTER_ID' # ID column name in all aggregation shapefiles (ee.FeatureCollections) that contains a unique ID for each polygon\n",
        "\n",
        "indicator_names = ['NDVI', 'NDVI_anom', 'NDVI_anom_perc', 'LST', 'LST_anom', 'LST_anom_perc',\n",
        "                  'Precip' , 'Precip_anom', 'Precip_anom_perc', 'Precip_hist_mean', 'SPI', 'SSM']\n",
        "\n",
        "indicator_names_file_name = ['NDVI', 'LST', 'Precip', 'SPI', 'SSM']\n",
        "file_name_base = '_'.join(str(s) for s in indicator_names_file_name)\n",
        "print('File base name for climate indicators: ', file_name_base)\n",
        "\n",
        "if update_table_climate:\n",
        "  print('Check newest date in current tables')\n",
        "\n",
        "  for i in AOI_names:\n",
        "\n",
        "    # Fetch most recent csv table stored in gdrive\n",
        "    file_name = i + '_' + file_name_base + '_' + first_date_current_csv + '_' + last_date_current_csv\n",
        "    print('CSV file name: ', file_name)\n",
        "    # Check last date in csv table (should be same as file ending)\n",
        "    try:\n",
        "      df = pd.read_csv(gdrive_output_folder + file_name + '.csv')\n",
        "      print('Newest date in CSV: ', df[['Date', id_column_name]].dropna().iloc[-1]['Date'])\n",
        "    except FileNotFoundError:\n",
        "      print(color.BOLD + \"File not found.\" + color.END)\n",
        "      break"
      ],
      "metadata": {
        "colab": {
          "base_uri": "https://localhost:8080/",
          "height": 236
        },
        "id": "PsbIGTyOKWMc",
        "outputId": "ff6d401c-1d67-4b18-8594-ad23ddc9ebc1"
      },
      "execution_count": null,
      "outputs": [
        {
          "output_type": "display_data",
          "data": {
            "text/plain": [
              "<IPython.core.display.HTML object>"
            ],
            "text/html": [
              "\n",
              "            <style>\n",
              "                .geemap-dark {\n",
              "                    --jp-widgets-color: white;\n",
              "                    --jp-widgets-label-color: white;\n",
              "                    --jp-ui-font-color1: white;\n",
              "                    --jp-layout-color2: #454545;\n",
              "                    background-color: #383838;\n",
              "                }\n",
              "\n",
              "                .geemap-dark .jupyter-button {\n",
              "                    --jp-layout-color3: #383838;\n",
              "                }\n",
              "\n",
              "                .geemap-colab {\n",
              "                    background-color: var(--colab-primary-surface-color, white);\n",
              "                }\n",
              "\n",
              "                .geemap-colab .jupyter-button {\n",
              "                    --jp-layout-color3: var(--colab-primary-surface-color, white);\n",
              "                }\n",
              "            </style>\n",
              "            "
            ]
          },
          "metadata": {}
        },
        {
          "output_type": "stream",
          "name": "stdout",
          "text": [
            "File base name for climate indicators:  NDVI_LST_Precip_SPI_SSM\n",
            "Check newest date in current tables\n",
            "CSV file name:  ADM1_NDVI_LST_Precip_SPI_SSM_2017-01-01_2024-03-01\n",
            "Newest date in CSV:  2024-03\n",
            "CSV file name:  ADM2_NDVI_LST_Precip_SPI_SSM_2017-01-01_2024-03-01\n",
            "Newest date in CSV:  2024-03\n",
            "CSV file name:  ADM3_NDVI_LST_Precip_SPI_SSM_2017-01-01_2024-03-01\n",
            "Newest date in CSV:  2024-03\n",
            "CSV file name:  Agri_ADM1_NDVI_LST_Precip_SPI_SSM_2017-01-01_2024-03-01\n",
            "Newest date in CSV:  2024-03\n",
            "CSV file name:  Agri_ADM2_NDVI_LST_Precip_SPI_SSM_2017-01-01_2024-03-01\n",
            "Newest date in CSV:  2024-03\n"
          ]
        }
      ]
    },
    {
      "cell_type": "markdown",
      "metadata": {
        "id": "P22hm7v72FtZ"
      },
      "source": [
        "## Load from assets"
      ]
    },
    {
      "cell_type": "markdown",
      "metadata": {
        "id": "prmKiyAWYLx6"
      },
      "source": [
        "### Feature collections\n",
        "\n",
        "Feature collections (i.e., shapefiles) stored as Earth Engine assets serve as spatial aggregation layers or geometry to clip images with"
      ]
    },
    {
      "cell_type": "code",
      "execution_count": null,
      "metadata": {
        "colab": {
          "base_uri": "https://localhost:8080/",
          "height": 17
        },
        "id": "1VUD4XWSYNgy",
        "outputId": "54597fa4-5486-46e9-e14b-a7b321db46fb"
      },
      "outputs": [
        {
          "output_type": "display_data",
          "data": {
            "text/plain": [
              "<IPython.core.display.HTML object>"
            ],
            "text/html": [
              "\n",
              "            <style>\n",
              "                .geemap-dark {\n",
              "                    --jp-widgets-color: white;\n",
              "                    --jp-widgets-label-color: white;\n",
              "                    --jp-ui-font-color1: white;\n",
              "                    --jp-layout-color2: #454545;\n",
              "                    background-color: #383838;\n",
              "                }\n",
              "\n",
              "                .geemap-dark .jupyter-button {\n",
              "                    --jp-layout-color3: #383838;\n",
              "                }\n",
              "\n",
              "                .geemap-colab {\n",
              "                    background-color: var(--colab-primary-surface-color, white);\n",
              "                }\n",
              "\n",
              "                .geemap-colab .jupyter-button {\n",
              "                    --jp-layout-color3: var(--colab-primary-surface-color, white);\n",
              "                }\n",
              "            </style>\n",
              "            "
            ]
          },
          "metadata": {}
        }
      ],
      "source": [
        "baseRepo = \"users/reachsyriagee/\"\n",
        "folder = \"Admin_Areas/modified_reach/\"\n",
        "\n",
        "# ADMINISTRATIVE AREAS\n",
        "fc_admin1  = ee.FeatureCollection(baseRepo + folder + \"admin1_RS_AOI\").select(ee.List([id_column_name, 'ADM1_EN', 'ADM1_PCODE','region']));\n",
        "fc_admin2  = ee.FeatureCollection(baseRepo + folder + \"admin2_RS_AOI\").select(ee.List([id_column_name, 'ADM2_EN', 'ADM2_PCODE', 'ADM1_EN', 'ADM1_PCODE','region' ]));\n",
        "fc_admin3  = ee.FeatureCollection(baseRepo + folder + \"admin3_RS_AOI\").select(ee.List([id_column_name, 'NAME_EN', 'PCODE', 'ADM2_EN', 'ADM2_PCODE', 'ADM1_EN', 'ADM1_PCODE', 'region']));\n",
        "\n",
        "# AGRO-ECOLOGICAL ZONES\n",
        "# fc_agri_zones = ee.FeatureCollection(baseRepo + \"Admin_Areas/Agricultural_Stability_Zones\").map(lambda f: f.set({'Agri_zone': f.get('Agri_Zone'), 'Agri_zone_descr': f.get('Agri_Zone_'), 'id': f.get('Agri_Zone1')}))\n",
        "\n",
        "# AGRO-ECOLOGICAL ZONES INTERSECTED W ADMIN AREAS\n",
        "def renameAgriProps(f): return f.set({'Agri_zone': f.get('Agri_Zone'), 'Agri_zone_descr': f.get('Agri_Zone_')}) # rename column (property) names\n",
        "fc_agri_zones_admin1 = ee.FeatureCollection(baseRepo + folder + \"admin1_Intersect_Agri\").map(renameAgriProps)\n",
        "fc_agri_zones_admin2 = ee.FeatureCollection(baseRepo + folder + \"admin2_Intersect_Agri\").map(renameAgriProps)\n",
        "# fc_agri_zones_NES_NWS = ee.FeatureCollection(baseRepo + folder + \"NES_NWS_Intersect_agri_zones\").map(renameAgriProps)\n",
        "\n",
        "# HEXAGONS (clipped to NES and NWS)\n",
        "fc_hex_75 = ee.FeatureCollection(baseRepo + folder + 'hex_final')\n",
        "\n",
        "# Geometry to clip images with\n",
        "clip_geom =  ee.FeatureCollection(baseRepo + 'Admin_Areas/NES_NWS_simplified_boundaries').first().geometry()"
      ]
    },
    {
      "cell_type": "markdown",
      "metadata": {
        "id": "qmmIrsQxYPXY"
      },
      "source": [
        "### Image collections"
      ]
    },
    {
      "cell_type": "code",
      "execution_count": null,
      "metadata": {
        "colab": {
          "base_uri": "https://localhost:8080/",
          "height": 17
        },
        "id": "tGV8t-E6oylM",
        "outputId": "348bf610-b068-49ea-f8c7-1014bf6be83f"
      },
      "outputs": [
        {
          "output_type": "display_data",
          "data": {
            "text/plain": [
              "<IPython.core.display.HTML object>"
            ],
            "text/html": [
              "\n",
              "            <style>\n",
              "                .geemap-dark {\n",
              "                    --jp-widgets-color: white;\n",
              "                    --jp-widgets-label-color: white;\n",
              "                    --jp-ui-font-color1: white;\n",
              "                    --jp-layout-color2: #454545;\n",
              "                    background-color: #383838;\n",
              "                }\n",
              "\n",
              "                .geemap-dark .jupyter-button {\n",
              "                    --jp-layout-color3: #383838;\n",
              "                }\n",
              "\n",
              "                .geemap-colab {\n",
              "                    background-color: var(--colab-primary-surface-color, white);\n",
              "                }\n",
              "\n",
              "                .geemap-colab .jupyter-button {\n",
              "                    --jp-layout-color3: var(--colab-primary-surface-color, white);\n",
              "                }\n",
              "            </style>\n",
              "            "
            ]
          },
          "metadata": {}
        }
      ],
      "source": [
        "imageNameBase_water = baseRepo + 'SY_Water/final/water_' # 10m Sentinel\n",
        "imageNameBase_chirps = baseRepo + 'SY_Rainfall/SY_CHIRPS_'\n",
        "imageNameBase_chirps_histMean =  baseRepo + 'SY_Rainfall/historical/SY_CHIRPS_historical_mean_monthly_sum_00_'; # 00_20, 00_19, 00_16\n",
        "imageNameBase_spi = baseRepo +  'SY_SPI/SPI1/SY_SPI_'\n",
        "imageNameBase_crop = baseRepo + 'SY_Cropland/UNOSAT_crop_woodVeg_masked_'\n",
        "imageNameBase_groundwater = 'projects/ee-reachsyriagee/assets/SY_Groundwater/GLDAS_anomaly_monthly_base0409/SY_GWS_Anom_';\n",
        "imgNameBase_groundwater_annual = 'projects/ee-reachsyriagee/assets/SY_Groundwater/GLDAS_anomaly_seasonal_mean/SY_GWS_anom_seasonal_mean_11_10_';\n",
        "\n",
        "# Time parameters (different for groundwater collection)\n",
        "startYear = 2017\n",
        "startMonth = 1\n",
        "endYear = int(datetime.strptime(last_date_export, \"%Y-%m-%d\").year) # integer\n",
        "endMonth = int(datetime.strptime(last_date_export, \"%Y-%m-%d\").month) # integer\n",
        "\n",
        "chirps_end_year_baseline = 2016 # 2020, 2019, or 2016\n",
        "\n",
        "# Rainfall sum\n",
        "rain_monthly = generateCollectionFromAssets(imageNameBase_chirps, startYear, startMonth, endYear, endMonth)\n",
        "rain_monthly_historical = generateCollection_monthly_hist(imageNameBase_chirps_histMean + str(chirps_end_year_baseline)[2:] + '_')\n",
        "# Join historical rainfall image collection (12 images) with monthly rainfall sum, so historical rainfall can be exported for each date\n",
        "filter_month = ee.Filter.equals(leftField = 'month', rightField = 'month' );\n",
        "innerJoin = ee.Join.inner();\n",
        "rain_monthly_and_histo = ee.ImageCollection(innerJoin.apply(rain_monthly, rain_monthly_historical.select(['Precipitation'], ['Precipitation_hist_mean']), filter_month)).map(catImages);\n",
        "\n",
        "# SPI\n",
        "spi_monthly = generateCollectionFromAssets(imageNameBase_spi, startYear, startMonth, endYear, endMonth)\n",
        "\n",
        "try:\n",
        "  ee.Algorithms.ObjectType(rain_monthly.first()).getInfo() == 'Image'\n",
        "  # print('All good. CHIRPS images are updated in Earth Engine assets for user defined months/time period to export.')\n",
        "except:\n",
        "  print('!!! CHIRPS images are not updated in Earth Engine assets for user defined months/time period to export.')\n",
        "\n",
        "# # Surface water\n",
        "# surface_water_monthly = generateCollectionFromAssets(imageNameBase_water, startYear, startMonth, endYear, endMonth).map(lambda image: ee.Image(image).selfMask().select([\"classification\"],[\"Water\"]))\n",
        "\n",
        "# Groundwater\n",
        "\n",
        "# Start and end date for monthly groundwater (end date is inclusive)\n",
        "startYear_gws = 2003\n",
        "startMonth_gws = 2\n",
        "endYear_gws = int(datetime.strptime(last_date_gws_export, \"%Y-%m-%d\").year) # integer\n",
        "endMonth_gws = int(datetime.strptime(last_date_gws_export, \"%Y-%m-%d\").month) # integer\n",
        "\n",
        "start_gws = datetime(startYear_gws, startMonth_gws, 1, 0, 0).strftime('%Y-%m-%d') # date string\n",
        "end_gws = datetime(endYear_gws, endMonth_gws, 1, 0, 0).strftime('%Y-%m-%d') # date string\n",
        "\n",
        "gws_anom_monthly = generateCollectionFromAssets(imageNameBase_groundwater, startYear_gws, startMonth_gws, endYear_gws, endMonth_gws)\n",
        "# gws_anom_annual = generateCollectionAnnual(imgNameBase_groundwater_annual, 2004, 2022)\n",
        "\n",
        "# Cropland extent\n",
        "cropland_imgCol = generateCollectionCropland(imageNameBase_crop,startYear,2022)\n",
        "# cropland18_19 = cropland_imgCol.filterDate('2019-01-01', '2020-01-01').first() # season 2018/2019\n",
        "cropland19_20 = cropland_imgCol.filterDate('2020-01-01', '2021-01-01').first() # season 2019/2020\n",
        "cropland20_21 = cropland_imgCol.filterDate('2021-01-01', '2022-01-01').first() # season 2020/2021\n",
        "cropland21_22 = cropland_imgCol.filterDate('2022-01-01', '2023-01-01').first() # season 2021/2022\n",
        "UNOSAT_cropland_combined = cropland19_20.add(cropland20_21).add(cropland21_22).gte(1)\n",
        "\n",
        "# WaPor Land Cover\n",
        "# 20 shrubland, # 30 grassland, # 41 cropland rainfed, # 42 cropland irrigated, # 43 cropland fallow, # 50 built up, # 60 bare/sparse vegetation, # 80 water, # 111, 116, 121, 126 tree cover\n",
        "lc22 = ee.Image('users/reachsyriagee/WaPor/L2_SYR_LCC_22').set('year', 2022)\n",
        "\n",
        "# RASTER MASKS\n",
        "# Non-water mask - to be used for LST\n",
        "lc22_mask = lc22.eq(80).Not() # lc22.eq(60).Or(lc22.eq(60)).Not()\n",
        "\n",
        "# Crop mask - to be used for NDVI\n",
        "crop_mask = UNOSAT_cropland_combined"
      ]
    },
    {
      "cell_type": "code",
      "source": [
        "# gws_anom_monthly.sort('system:time_start', False).first() # last groundwater image"
      ],
      "metadata": {
        "colab": {
          "base_uri": "https://localhost:8080/",
          "height": 17
        },
        "id": "Ong544RkiWX7",
        "outputId": "f166e6a9-5ae6-4a20-d169-5c3ce82bafa6"
      },
      "execution_count": null,
      "outputs": [
        {
          "output_type": "display_data",
          "data": {
            "text/plain": [
              "<IPython.core.display.HTML object>"
            ],
            "text/html": [
              "\n",
              "            <style>\n",
              "                .geemap-dark {\n",
              "                    --jp-widgets-color: white;\n",
              "                    --jp-widgets-label-color: white;\n",
              "                    --jp-ui-font-color1: white;\n",
              "                    --jp-layout-color2: #454545;\n",
              "                    background-color: #383838;\n",
              "                }\n",
              "\n",
              "                .geemap-dark .jupyter-button {\n",
              "                    --jp-layout-color3: #383838;\n",
              "                }\n",
              "\n",
              "                .geemap-colab {\n",
              "                    background-color: var(--colab-primary-surface-color, white);\n",
              "                }\n",
              "\n",
              "                .geemap-colab .jupyter-button {\n",
              "                    --jp-layout-color3: var(--colab-primary-surface-color, white);\n",
              "                }\n",
              "            </style>\n",
              "            "
            ]
          },
          "metadata": {}
        }
      ]
    },
    {
      "cell_type": "markdown",
      "metadata": {
        "id": "Cr-OvBP5vvOk"
      },
      "source": [
        "### AOI dictionary"
      ]
    },
    {
      "cell_type": "code",
      "execution_count": null,
      "metadata": {
        "colab": {
          "base_uri": "https://localhost:8080/",
          "height": 17
        },
        "id": "YlibrevMRY9W",
        "outputId": "545fea2e-be2b-4ed2-b328-70d20936ff06"
      },
      "outputs": [
        {
          "output_type": "display_data",
          "data": {
            "text/plain": [
              "<IPython.core.display.HTML object>"
            ],
            "text/html": [
              "\n",
              "            <style>\n",
              "                .geemap-dark {\n",
              "                    --jp-widgets-color: white;\n",
              "                    --jp-widgets-label-color: white;\n",
              "                    --jp-ui-font-color1: white;\n",
              "                    --jp-layout-color2: #454545;\n",
              "                    background-color: #383838;\n",
              "                }\n",
              "\n",
              "                .geemap-dark .jupyter-button {\n",
              "                    --jp-layout-color3: #383838;\n",
              "                }\n",
              "\n",
              "                .geemap-colab {\n",
              "                    background-color: var(--colab-primary-surface-color, white);\n",
              "                }\n",
              "\n",
              "                .geemap-colab .jupyter-button {\n",
              "                    --jp-layout-color3: var(--colab-primary-surface-color, white);\n",
              "                }\n",
              "            </style>\n",
              "            "
            ]
          },
          "metadata": {}
        }
      ],
      "source": [
        "aoi_dict = {\n",
        "  \"ADM1\" : {\n",
        "    \"AOI\": fc_admin1,\n",
        "    \"property_selectors\": ee.List([id_column_name] + ['ADM1_EN', 'ADM1_PCODE', 'region']),\n",
        "    \"aggr_scale\": 1000,\n",
        "  },\n",
        "  \"ADM2\": {\n",
        "    \"AOI\": fc_admin2,\n",
        "    \"property_selectors\": ee.List([id_column_name] + ['ADM2_EN', 'ADM2_PCODE', 'ADM1_EN', 'ADM1_PCODE', 'region']),\n",
        "    \"aggr_scale\": 1000\n",
        "  },\n",
        "  \"ADM3\": {\n",
        "    \"AOI\": fc_admin3.filter(ee.Filter.inList('region', ['NES', 'NWS'])),\n",
        "    \"property_selectors\": ee.List([id_column_name] + ['NAME_EN', 'PCODE', 'ADM2_EN', 'ADM2_PCODE', 'ADM1_EN', 'ADM1_PCODE', 'region']),\n",
        "    \"aggr_scale\": 1000\n",
        "  },\n",
        "  \"Hex\": {\n",
        "    \"AOI\": fc_hex_75,\n",
        "    \"property_selectors\": ee.List([id_column_name]),\n",
        "    \"aggr_scale\": 5000 # = 25sqkm\n",
        "  },\n",
        "  # \"Agri\" : {\n",
        "  #   \"AOI\": fc_agri_zones,\n",
        "  #   \"property_selectors\": ee.List([id_column_name] + ['Agri_zone', 'Agri_zone_descr']),\n",
        "  #   \"aggr_scale\": 1000\n",
        "  # },\n",
        "  \"Agri_ADM1\" : {\n",
        "    \"AOI\": fc_agri_zones_admin1,\n",
        "    \"property_selectors\": ee.List([id_column_name] +['NAME_EN', 'PCODE', 'region', 'Agri_zone', 'Agri_zone_descr']),\n",
        "    \"aggr_scale\": 1000\n",
        "  },\n",
        "  \"Agri_ADM2\" : {\n",
        "    \"AOI\": fc_agri_zones_admin2,\n",
        "    \"property_selectors\": ee.List([id_column_name] + ['NAME_EN', 'PCODE', 'ADM1_EN', 'ADM1_PCODE', 'region', 'Agri_zone', 'Agri_zone_descr']),\n",
        "    \"aggr_scale\": 1000\n",
        "  }\n",
        "}\n",
        "\n",
        "# aoi_dict[\"ADM3\"][\"AOI\"].first() # first polygon (ee.Feature) of admin3 layer"
      ]
    },
    {
      "cell_type": "code",
      "source": [
        "# Map cropland mask\n",
        "centroid = clip_geom.centroid()\n",
        "# Set start zoom\n",
        "zoom = 7\n",
        "# Add EE drawing method to folium.\n",
        "folium.Map.add_ee_layer = add_ee_layer\n",
        "\n",
        "# Create a folium map object.\n",
        "my_map = folium.Map(location=[centroid.getInfo()['coordinates'][1], centroid.getInfo()['coordinates'][0]], zoom_start=zoom)\n",
        "my_map.add_ee_layer(lc22_mask.selfMask(), {'palette':['orange']}, 'FAO LC 2022 - everything but water')\n",
        "my_map.add_ee_layer(crop_mask.selfMask(), {'palette':['yellow']}, 'Crop mask')\n",
        "my_map.add_ee_layer(aoi_dict[\"ADM3\"][\"AOI\"], {}, 'Admin 3')\n",
        "\n",
        "# # Add a layer control panel to the map.\n",
        "my_map.add_child(folium.LayerControl())\n",
        "\n",
        "# Display the map.\n",
        "display(my_map)"
      ],
      "metadata": {
        "colab": {
          "base_uri": "https://localhost:8080/",
          "height": 786
        },
        "id": "XfhirdjXL2Ub",
        "outputId": "ee15df28-0a7c-4871-dfae-8a764eb0bf2f"
      },
      "execution_count": null,
      "outputs": [
        {
          "output_type": "display_data",
          "data": {
            "text/plain": [
              "<IPython.core.display.HTML object>"
            ],
            "text/html": [
              "\n",
              "            <style>\n",
              "                .geemap-dark {\n",
              "                    --jp-widgets-color: white;\n",
              "                    --jp-widgets-label-color: white;\n",
              "                    --jp-ui-font-color1: white;\n",
              "                    --jp-layout-color2: #454545;\n",
              "                    background-color: #383838;\n",
              "                }\n",
              "\n",
              "                .geemap-dark .jupyter-button {\n",
              "                    --jp-layout-color3: #383838;\n",
              "                }\n",
              "\n",
              "                .geemap-colab {\n",
              "                    background-color: var(--colab-primary-surface-color, white);\n",
              "                }\n",
              "\n",
              "                .geemap-colab .jupyter-button {\n",
              "                    --jp-layout-color3: var(--colab-primary-surface-color, white);\n",
              "                }\n",
              "            </style>\n",
              "            "
            ]
          },
          "metadata": {}
        },
        {
          "output_type": "display_data",
          "data": {
            "text/plain": [
              "<folium.folium.Map at 0x78420ffe30d0>"
            ],
            "text/html": [
              "<div style=\"width:100%;\"><div style=\"position:relative;width:100%;height:0;padding-bottom:60%;\"><span style=\"color:#565656\">Make this Notebook Trusted to load map: File -> Trust Notebook</span><iframe srcdoc=\"&lt;!DOCTYPE html&gt;\n",
              "&lt;html&gt;\n",
              "&lt;head&gt;\n",
              "    \n",
              "    &lt;meta http-equiv=&quot;content-type&quot; content=&quot;text/html; charset=UTF-8&quot; /&gt;\n",
              "    \n",
              "        &lt;script&gt;\n",
              "            L_NO_TOUCH = false;\n",
              "            L_DISABLE_3D = false;\n",
              "        &lt;/script&gt;\n",
              "    \n",
              "    &lt;style&gt;html, body {width: 100%;height: 100%;margin: 0;padding: 0;}&lt;/style&gt;\n",
              "    &lt;style&gt;#map {position:absolute;top:0;bottom:0;right:0;left:0;}&lt;/style&gt;\n",
              "    &lt;script src=&quot;https://cdn.jsdelivr.net/npm/leaflet@1.9.3/dist/leaflet.js&quot;&gt;&lt;/script&gt;\n",
              "    &lt;script src=&quot;https://code.jquery.com/jquery-1.12.4.min.js&quot;&gt;&lt;/script&gt;\n",
              "    &lt;script src=&quot;https://cdn.jsdelivr.net/npm/bootstrap@5.2.2/dist/js/bootstrap.bundle.min.js&quot;&gt;&lt;/script&gt;\n",
              "    &lt;script src=&quot;https://cdnjs.cloudflare.com/ajax/libs/Leaflet.awesome-markers/2.0.2/leaflet.awesome-markers.js&quot;&gt;&lt;/script&gt;\n",
              "    &lt;link rel=&quot;stylesheet&quot; href=&quot;https://cdn.jsdelivr.net/npm/leaflet@1.9.3/dist/leaflet.css&quot;/&gt;\n",
              "    &lt;link rel=&quot;stylesheet&quot; href=&quot;https://cdn.jsdelivr.net/npm/bootstrap@5.2.2/dist/css/bootstrap.min.css&quot;/&gt;\n",
              "    &lt;link rel=&quot;stylesheet&quot; href=&quot;https://netdna.bootstrapcdn.com/bootstrap/3.0.0/css/bootstrap.min.css&quot;/&gt;\n",
              "    &lt;link rel=&quot;stylesheet&quot; href=&quot;https://cdn.jsdelivr.net/npm/@fortawesome/fontawesome-free@6.2.0/css/all.min.css&quot;/&gt;\n",
              "    &lt;link rel=&quot;stylesheet&quot; href=&quot;https://cdnjs.cloudflare.com/ajax/libs/Leaflet.awesome-markers/2.0.2/leaflet.awesome-markers.css&quot;/&gt;\n",
              "    &lt;link rel=&quot;stylesheet&quot; href=&quot;https://cdn.jsdelivr.net/gh/python-visualization/folium/folium/templates/leaflet.awesome.rotate.min.css&quot;/&gt;\n",
              "    \n",
              "            &lt;meta name=&quot;viewport&quot; content=&quot;width=device-width,\n",
              "                initial-scale=1.0, maximum-scale=1.0, user-scalable=no&quot; /&gt;\n",
              "            &lt;style&gt;\n",
              "                #map_25dda70a7898c93589c97c6cbc79399c {\n",
              "                    position: relative;\n",
              "                    width: 100.0%;\n",
              "                    height: 100.0%;\n",
              "                    left: 0.0%;\n",
              "                    top: 0.0%;\n",
              "                }\n",
              "                .leaflet-container { font-size: 1rem; }\n",
              "            &lt;/style&gt;\n",
              "        \n",
              "&lt;/head&gt;\n",
              "&lt;body&gt;\n",
              "    \n",
              "    \n",
              "            &lt;div class=&quot;folium-map&quot; id=&quot;map_25dda70a7898c93589c97c6cbc79399c&quot; &gt;&lt;/div&gt;\n",
              "        \n",
              "&lt;/body&gt;\n",
              "&lt;script&gt;\n",
              "    \n",
              "    \n",
              "            var map_25dda70a7898c93589c97c6cbc79399c = L.map(\n",
              "                &quot;map_25dda70a7898c93589c97c6cbc79399c&quot;,\n",
              "                {\n",
              "                    center: [36.186668055598126, 39.67701124654562],\n",
              "                    crs: L.CRS.EPSG3857,\n",
              "                    zoom: 7,\n",
              "                    zoomControl: true,\n",
              "                    preferCanvas: false,\n",
              "                }\n",
              "            );\n",
              "\n",
              "            \n",
              "\n",
              "        \n",
              "    \n",
              "            var tile_layer_6f06f88e1fc3d9d8e68c522c51db4397 = L.tileLayer(\n",
              "                &quot;https://{s}.tile.openstreetmap.org/{z}/{x}/{y}.png&quot;,\n",
              "                {&quot;attribution&quot;: &quot;Data by \\u0026copy; \\u003ca target=\\&quot;_blank\\&quot; href=\\&quot;http://openstreetmap.org\\&quot;\\u003eOpenStreetMap\\u003c/a\\u003e, under \\u003ca target=\\&quot;_blank\\&quot; href=\\&quot;http://www.openstreetmap.org/copyright\\&quot;\\u003eODbL\\u003c/a\\u003e.&quot;, &quot;detectRetina&quot;: false, &quot;maxNativeZoom&quot;: 18, &quot;maxZoom&quot;: 18, &quot;minZoom&quot;: 0, &quot;noWrap&quot;: false, &quot;opacity&quot;: 1, &quot;subdomains&quot;: &quot;abc&quot;, &quot;tms&quot;: false}\n",
              "            ).addTo(map_25dda70a7898c93589c97c6cbc79399c);\n",
              "        \n",
              "    \n",
              "            var tile_layer_7fa80683d692853105f29ea6d9582c35 = L.tileLayer(\n",
              "                &quot;https://earthengine.googleapis.com/v1/projects/ee-reachsyriagee/maps/127d45f90ec08cddab441059a6bf7f81-e5017af87c0f84dce5f0e3b7b348a38c/tiles/{z}/{x}/{y}&quot;,\n",
              "                {&quot;attribution&quot;: &quot;Google Earth Engine&quot;, &quot;detectRetina&quot;: false, &quot;maxNativeZoom&quot;: 18, &quot;maxZoom&quot;: 18, &quot;minZoom&quot;: 0, &quot;noWrap&quot;: false, &quot;opacity&quot;: 1, &quot;subdomains&quot;: &quot;abc&quot;, &quot;tms&quot;: false}\n",
              "            ).addTo(map_25dda70a7898c93589c97c6cbc79399c);\n",
              "        \n",
              "    \n",
              "            var tile_layer_2990eb86bf75159df46b697ab5389233 = L.tileLayer(\n",
              "                &quot;https://earthengine.googleapis.com/v1/projects/ee-reachsyriagee/maps/b4ab35b91d33ede3f5b10dae767acd35-dc1af88130bbdfb14727c1cbfccd637e/tiles/{z}/{x}/{y}&quot;,\n",
              "                {&quot;attribution&quot;: &quot;Google Earth Engine&quot;, &quot;detectRetina&quot;: false, &quot;maxNativeZoom&quot;: 18, &quot;maxZoom&quot;: 18, &quot;minZoom&quot;: 0, &quot;noWrap&quot;: false, &quot;opacity&quot;: 1, &quot;subdomains&quot;: &quot;abc&quot;, &quot;tms&quot;: false}\n",
              "            ).addTo(map_25dda70a7898c93589c97c6cbc79399c);\n",
              "        \n",
              "    \n",
              "            var tile_layer_22e787378cf3ee51a1dac6e182eeb17f = L.tileLayer(\n",
              "                &quot;https://earthengine.googleapis.com/v1/projects/ee-reachsyriagee/maps/112a89213aea9f8cba2717e2cd0c1400-6a41dbdf148246721b6f5382ad21ea4d/tiles/{z}/{x}/{y}&quot;,\n",
              "                {&quot;attribution&quot;: &quot;Google Earth Engine&quot;, &quot;detectRetina&quot;: false, &quot;maxNativeZoom&quot;: 18, &quot;maxZoom&quot;: 18, &quot;minZoom&quot;: 0, &quot;noWrap&quot;: false, &quot;opacity&quot;: 1, &quot;subdomains&quot;: &quot;abc&quot;, &quot;tms&quot;: false}\n",
              "            ).addTo(map_25dda70a7898c93589c97c6cbc79399c);\n",
              "        \n",
              "    \n",
              "            var layer_control_af58ab06b48bd8ace9783fd1b427b98a = {\n",
              "                base_layers : {\n",
              "                    &quot;openstreetmap&quot; : tile_layer_6f06f88e1fc3d9d8e68c522c51db4397,\n",
              "                },\n",
              "                overlays :  {\n",
              "                    &quot;FAO LC 2022 - everything but water&quot; : tile_layer_7fa80683d692853105f29ea6d9582c35,\n",
              "                    &quot;Crop mask&quot; : tile_layer_2990eb86bf75159df46b697ab5389233,\n",
              "                    &quot;Admin 3&quot; : tile_layer_22e787378cf3ee51a1dac6e182eeb17f,\n",
              "                },\n",
              "            };\n",
              "            L.control.layers(\n",
              "                layer_control_af58ab06b48bd8ace9783fd1b427b98a.base_layers,\n",
              "                layer_control_af58ab06b48bd8ace9783fd1b427b98a.overlays,\n",
              "                {&quot;autoZIndex&quot;: true, &quot;collapsed&quot;: true, &quot;position&quot;: &quot;topright&quot;}\n",
              "            ).addTo(map_25dda70a7898c93589c97c6cbc79399c);\n",
              "        \n",
              "&lt;/script&gt;\n",
              "&lt;/html&gt;\" style=\"position:absolute;width:100%;height:100%;left:0;top:0;border:none !important;\" allowfullscreen webkitallowfullscreen mozallowfullscreen></iframe></div></div>"
            ]
          },
          "metadata": {}
        }
      ]
    },
    {
      "cell_type": "markdown",
      "metadata": {
        "id": "YrUiJK9Rg4OZ"
      },
      "source": [
        "## Load MODIS and SMAP collections\n",
        "\n",
        "\n",
        "\n",
        "*   Compiling MODIS NDVI and LST and SMAP collections on a monthly basis from March 2000 (MODIS)/ April 2015 (SMAP)\n",
        "\n",
        "\n",
        "\n",
        "\n",
        "\n"
      ]
    },
    {
      "cell_type": "code",
      "execution_count": null,
      "metadata": {
        "colab": {
          "base_uri": "https://localhost:8080/",
          "height": 181
        },
        "id": "Fh_QW-SiXtlA",
        "outputId": "4ef527d7-8c85-4267-b7b6-1e49ccc7f4d0"
      },
      "outputs": [
        {
          "output_type": "display_data",
          "data": {
            "text/plain": [
              "<IPython.core.display.HTML object>"
            ],
            "text/html": [
              "\n",
              "            <style>\n",
              "                .geemap-dark {\n",
              "                    --jp-widgets-color: white;\n",
              "                    --jp-widgets-label-color: white;\n",
              "                    --jp-ui-font-color1: white;\n",
              "                    --jp-layout-color2: #454545;\n",
              "                    background-color: #383838;\n",
              "                }\n",
              "\n",
              "                .geemap-dark .jupyter-button {\n",
              "                    --jp-layout-color3: #383838;\n",
              "                }\n",
              "\n",
              "                .geemap-colab {\n",
              "                    background-color: var(--colab-primary-surface-color, white);\n",
              "                }\n",
              "\n",
              "                .geemap-colab .jupyter-button {\n",
              "                    --jp-layout-color3: var(--colab-primary-surface-color, white);\n",
              "                }\n",
              "            </style>\n",
              "            "
            ]
          },
          "metadata": {}
        },
        {
          "output_type": "stream",
          "name": "stdout",
          "text": [
            "MODIS SR and LST image collections\n",
            "Date filter - START:  2000-03-01 END:  2024-06-01\n",
            "end baseline: 2016-08-01\n",
            "Last image date SR:  2024-05-24\n",
            "Last image date MODIS LST:  2024-05-31\n",
            "\n",
            "SMAP Soil moisture daily image collection: \n",
            "Date filter - START:  2015-04-01 END:  2024-06-01\n",
            "Last image date:  2024-05-31\n"
          ]
        }
      ],
      "source": [
        "# Define start and end date of MODIS raw image collection\n",
        "# start_date = datetime(startYear, startMonth, 1, 0, 0).strftime('%Y-%m-%d')\n",
        "start_date_str = '2000-03-01'\n",
        "start_date = ee.Date(start_date_str)\n",
        "\n",
        "end_date_str = (datetime.strptime(last_date_export, \"%Y-%m-%d\")+ relativedelta(months=1)).strftime(\"%Y-%m-%d\") # last date export plus 1 month\n",
        "end_date = ee.Date(end_date_str)\n",
        "\n",
        "# Define start and end of baseline.\n",
        "start_date_base = start_date_str; # first of Jan date of the first season to be included (e.g. 2000-01-01 for 2000/2001)\n",
        "end_date_base = '2016-08-01'\n",
        "\n",
        "start_year_base = int(start_date_base[:4])\n",
        "end_year_base = int(end_date_base[:4])\n",
        "\n",
        "print('MODIS SR and LST image collections')\n",
        "print('Date filter - START: ', start_date_str, 'END: ', end_date_str)\n",
        "print('end baseline:',end_date_base)\n",
        "# both MODIS collections start end of Feb 2000\n",
        "# MODIS Surface reflectance (SR) 8-day\n",
        "modis_ndvi = ee.ImageCollection('MODIS/061/MYD09Q1').merge(ee.ImageCollection('MODIS/061/MOD09Q1'))\\\n",
        "  .filterDate(start_date, end_date)\\\n",
        "  .filterBounds(clip_geom)\\\n",
        "  .sort('system:time_start')\\\n",
        "  .map(lambda img: img.clip(clip_geom))\\\n",
        "  .map(maskCloudsMODIS8)\\\n",
        "  .map(lambda img: img.addBands(img.normalizedDifference(['sur_refl_b02', 'sur_refl_b01']).rename('NDVI').updateMask(crop_mask))).select(['NDVI'])\n",
        "\n",
        "last_date = modis_ndvi.limit(1, 'system:time_start', False).first().date().format('YYYY-MM-dd')\n",
        "print('Last image date SR: ',  last_date.getInfo())\n",
        "\n",
        "\n",
        "# MODIS Land surface temperature (LST) and emissivity\n",
        "modis_lst = ee.ImageCollection(\"MODIS/061/MOD11A1\").merge(ee.ImageCollection(\"MODIS/061/MYD11A1\"))\\\n",
        "  .filterDate(start_date, end_date)\\\n",
        "  .filterBounds(clip_geom)\\\n",
        "  .map(lambda img: img.addBands(img.select('LST_Day_1km').multiply(0.02).subtract(273.15).rename('Celsius').float()).clip(clip_geom).updateMask(lc22_mask))\\\n",
        "  .select(['Celsius'])\n",
        "\n",
        "last_date = modis_lst.limit(1, 'system:time_start', False).first().date().format('YYYY-MM-dd')\n",
        "print('Last image date MODIS LST: ',  last_date.getInfo())\n",
        "\n",
        "# SMAP Soil moisture\n",
        "start_date_ssm = '2015-04-01' # starts March 31st\n",
        "\n",
        "\n",
        "smap_ssm = ee.ImageCollection(\"NASA/SMAP/SPL4SMGP/007\")\\\n",
        "  .filterDate(start_date_ssm, end_date)\\\n",
        "  .select('sm_surface')\\\n",
        "  .map(lambda img: img.clip(clip_geom).updateMask(crop_mask))\n",
        "\n",
        "print('')\n",
        "print('SMAP Soil moisture daily image collection: ')\n",
        "print('Date filter - START: ',start_date_ssm, 'END: ',end_date_str)\n",
        "print('Last image date: ', smap_ssm.sort('system:time_start', False).first().date().format('YYYY-MM-dd').getInfo())\n"
      ]
    },
    {
      "cell_type": "markdown",
      "metadata": {
        "id": "yHu_eRp32rd0"
      },
      "source": [
        "## Make monthly composites\n",
        "*   Filtering monthly collections from start date till end date  (`start_date_export` and `last_date_export` indicated by user in section \"Set update parameters\")"
      ]
    },
    {
      "cell_type": "code",
      "execution_count": null,
      "metadata": {
        "colab": {
          "base_uri": "https://localhost:8080/",
          "height": 86
        },
        "id": "23GqhoCEsWKN",
        "outputId": "cb959469-664b-4e1f-a7c0-ac9e4da0e471"
      },
      "outputs": [
        {
          "output_type": "display_data",
          "data": {
            "text/plain": [
              "<IPython.core.display.HTML object>"
            ],
            "text/html": [
              "\n",
              "            <style>\n",
              "                .geemap-dark {\n",
              "                    --jp-widgets-color: white;\n",
              "                    --jp-widgets-label-color: white;\n",
              "                    --jp-ui-font-color1: white;\n",
              "                    --jp-layout-color2: #454545;\n",
              "                    background-color: #383838;\n",
              "                }\n",
              "\n",
              "                .geemap-dark .jupyter-button {\n",
              "                    --jp-layout-color3: #383838;\n",
              "                }\n",
              "\n",
              "                .geemap-colab {\n",
              "                    background-color: var(--colab-primary-surface-color, white);\n",
              "                }\n",
              "\n",
              "                .geemap-colab .jupyter-button {\n",
              "                    --jp-layout-color3: var(--colab-primary-surface-color, white);\n",
              "                }\n",
              "            </style>\n",
              "            "
            ]
          },
          "metadata": {}
        },
        {
          "output_type": "stream",
          "name": "stdout",
          "text": [
            "Number of months to be exported for climate indicators: \n"
          ]
        },
        {
          "output_type": "execute_result",
          "data": {
            "text/plain": [
              "<ee.ee_number.Number at 0x7a83d32bd420>"
            ],
            "text/html": [
              "<div><style>:root {\n",
              "  --font-color-primary: var(--jp-content-font-color0, rgba(0, 0, 0, 1));\n",
              "  --font-color-secondary: var(--jp-content-font-color2, rgba(0, 0, 0, 0.6));\n",
              "  --font-color-accent: rgba(123, 31, 162, 1);\n",
              "  --border-color: var(--jp-border-color2, #e0e0e0);\n",
              "  --background-color: var(--jp-layout-color0, white);\n",
              "  --background-color-row-even: var(--jp-layout-color1, white);\n",
              "  --background-color-row-odd: var(--jp-layout-color2, #eeeeee);\n",
              "}\n",
              "\n",
              "html[theme=\"dark\"],\n",
              "body[data-theme=\"dark\"],\n",
              "body.vscode-dark {\n",
              "  --font-color-primary: rgba(255, 255, 255, 1);\n",
              "  --font-color-secondary: rgba(255, 255, 255, 0.6);\n",
              "  --font-color-accent: rgb(173, 132, 190);\n",
              "  --border-color: #2e2e2e;\n",
              "  --background-color: #111111;\n",
              "  --background-color-row-even: #111111;\n",
              "  --background-color-row-odd: #313131;\n",
              "}\n",
              "\n",
              ".ee {\n",
              "  padding: 1em;\n",
              "  line-height: 1.5em;\n",
              "  min-width: 300px;\n",
              "  max-width: 1200px;\n",
              "  overflow-y: scroll;\n",
              "  max-height: 600px;\n",
              "  border: 1px solid var(--border-color);\n",
              "  font-family: monospace;\n",
              "}\n",
              "\n",
              ".ee li {\n",
              "  list-style-type: none;\n",
              "}\n",
              "\n",
              ".ee ul {\n",
              "  padding-left: 1.5em !important;\n",
              "  margin: 0;\n",
              "}\n",
              "\n",
              ".ee > ul {\n",
              "  padding-left: 0 !important;\n",
              "}\n",
              "\n",
              ".ee-open,\n",
              ".ee-shut {\n",
              "  color: var(--font-color-secondary);\n",
              "  cursor: pointer;\n",
              "  margin: 0;\n",
              "}\n",
              "\n",
              ".ee-open:hover,\n",
              ".ee-shut:hover {\n",
              "  color: var(--font-color-primary);\n",
              "}\n",
              "\n",
              ".ee-k {\n",
              "  color: var(--font-color-accent);\n",
              "  margin-right: 6px;\n",
              "}\n",
              "\n",
              ".ee-v {\n",
              "  color: var(--font-color-primary);\n",
              "}\n",
              "\n",
              ".ee-toggle {\n",
              "  display: none;\n",
              "}\n",
              "\n",
              ".ee-shut + ul {\n",
              "  display: none;\n",
              "}\n",
              "\n",
              ".ee-open + ul {\n",
              "  display: block;\n",
              "}\n",
              "\n",
              ".ee-shut::before {\n",
              "  display: inline-block;\n",
              "  content: \"▼\";\n",
              "  margin-right: 6px;\n",
              "  transform: rotate(-90deg);\n",
              "  transition: transform 0.2s;\n",
              "}\n",
              "\n",
              ".ee-open::before {\n",
              "  transform: rotate(0deg);\n",
              "  display: inline-block;\n",
              "  content: \"▼\";\n",
              "  margin-right: 6px;\n",
              "  transition: transform 0.2s;\n",
              "}\n",
              "</style><div class='ee'><ul><li><span class='ee-v'>2</span></li></ul></div><script>function toggleHeader() {\n",
              "    const parent = this.parentElement;\n",
              "    parent.className = parent.className === \"ee-open\" ? \"ee-shut\" : \"ee-open\";\n",
              "}\n",
              "\n",
              "for (let c of document.getElementsByClassName(\"ee-toggle\")) {\n",
              "    c.onclick = toggleHeader;\n",
              "}</script></div>"
            ]
          },
          "metadata": {},
          "execution_count": 25
        }
      ],
      "source": [
        "date_range = make_date_range_monthly(start_date, end_date)\n",
        "months = ee.List([x for x in range(1, 13)])\n",
        "\n",
        "# NDVI\n",
        "modis_ndvi_monthly = composite_monthly_median(modis_ndvi, date_range)# .filter(ee.Filter.neq('number_images', 0)) # Remove composites without any images/bands d--- do not filter out because with gaps monthly anomaly images cant be calculated\n",
        "modis_ndvi_historical = make_historical_median_monthly(modis_ndvi.filterDate(start_date_base, end_date_base), months); # historical ndvi per month (12 images)\n",
        "modis_ndvi_monthly_filtered = modis_ndvi_monthly.filterDate(ee.Date(start_date_export), end_date); # monthly collection filtered to anomaly time period of interest\n",
        "\n",
        "# NDVI anomaly\n",
        "modis_ndvi_monthly_anom = map_calculate_anomaly_monthly(modis_ndvi_monthly_filtered, modis_ndvi_historical);\n",
        "\n",
        "# NDVI anomaly (%)\n",
        "modis_ndvi_monthly_anom_perc = map_calculate_anomaly_perc_monthly(modis_ndvi_monthly_filtered, modis_ndvi_historical);\n",
        "\n",
        "# LST\n",
        "modis_lst_monthly = composite_monthly_mean(modis_lst, date_range, 'Celsius')\n",
        "modis_lst_historical = make_historical_median_monthly(modis_lst.filterDate(start_date_base, end_date_base), months);\n",
        "modis_lst_monthly_filtered = modis_lst_monthly.filterDate(ee.Date(start_date_export), end_date);\n",
        "\n",
        "# LST anomaly\n",
        "modis_lst_monthly_anom = map_calculate_anomaly_monthly(modis_lst_monthly_filtered, modis_lst_historical);\n",
        "# LST anomaly (%)\n",
        "modis_lst_monthly_anom_perc = map_calculate_anomaly_perc_monthly(modis_lst_monthly_filtered, modis_lst_historical);\n",
        "\n",
        "\n",
        "# VCI\n",
        "\n",
        "\n",
        "# Rainfall anomaly\n",
        "rain_monthly_anom = map_calculate_anomaly_monthly(rain_monthly, rain_monthly_historical);\n",
        "\n",
        "# Rainfall anomaly (%)\n",
        "rain_monthly_anom_perc = map_calculate_anomaly_perc_monthly(rain_monthly, rain_monthly_historical);\n",
        "\n",
        "\n",
        "# Surface soil moisture\n",
        "date_range_ssm = make_date_range_monthly(ee.Date(start_date_ssm), ee.Date(end_date).advance(1,'month'))\n",
        "ssm_monthly = composite_monthly_mean(smap_ssm, date_range_ssm, 'sm_surface')\n",
        "\n",
        "\n",
        "# TCI\n",
        "\n",
        "\n",
        "# VHI\n",
        "\n",
        "\n",
        "# Check size  of image collection\n",
        "print(\"Number of months to be exported for climate indicators: \")\n",
        "modis_lst_monthly_anom.size()\n",
        "\n",
        "# Check last images\n",
        "# ssm_monthly.sort('system:time_start', False).first()\n",
        "# modis_lst_monthly.sort('system:time_start', False).first()\n"
      ]
    },
    {
      "cell_type": "markdown",
      "metadata": {
        "id": "OdDEs4POIMeu"
      },
      "source": [
        "### Visualise selected month\n",
        "\n",
        "\n",
        "\n",
        "*   Select date, e.g. `last_date_export` or manually defined within export time period e.g. `'2024-02-01'`\n",
        "* Select aggregation AOI e.g. `'Hex'` or `'ADM3'`\n",
        "\n",
        "\n"
      ]
    },
    {
      "cell_type": "code",
      "execution_count": null,
      "metadata": {
        "colab": {
          "base_uri": "https://localhost:8080/",
          "height": 53
        },
        "id": "F6rujnUTIdi8",
        "outputId": "5df09447-1489-4f7b-e1ec-9b238da5b1fa"
      },
      "outputs": [
        {
          "output_type": "display_data",
          "data": {
            "text/plain": [
              "<IPython.core.display.HTML object>"
            ],
            "text/html": [
              "\n",
              "            <style>\n",
              "                .geemap-dark {\n",
              "                    --jp-widgets-color: white;\n",
              "                    --jp-widgets-label-color: white;\n",
              "                    --jp-ui-font-color1: white;\n",
              "                    --jp-layout-color2: #454545;\n",
              "                    background-color: #383838;\n",
              "                }\n",
              "\n",
              "                .geemap-dark .jupyter-button {\n",
              "                    --jp-layout-color3: #383838;\n",
              "                }\n",
              "\n",
              "                .geemap-colab {\n",
              "                    background-color: var(--colab-primary-surface-color, white);\n",
              "                }\n",
              "\n",
              "                .geemap-colab .jupyter-button {\n",
              "                    --jp-layout-color3: var(--colab-primary-surface-color, white);\n",
              "                }\n",
              "            </style>\n",
              "            "
            ]
          },
          "metadata": {}
        },
        {
          "output_type": "stream",
          "name": "stdout",
          "text": [
            "Selected month:  2024-05-01\n",
            "Selected AOI:  ADM3\n"
          ]
        }
      ],
      "source": [
        "date_str = last_date_export # Select date: last_date_expor or string '2024-02-01'\n",
        "AOI_name_test = 'ADM3' # Select aggregation layer: 'ADM1', 'ADM2', 'ADM3', 'Hex', 'Agri_ADM1', 'Agri_ADM2', 'Agri_NES_NWS'\n",
        "\n",
        "\n",
        "AOI_test = aoi_dict[AOI_name_test]['AOI']\n",
        "aggr_scale_test = aoi_dict[AOI_name_test]['aggr_scale']\n",
        "print('Selected month: ', date_str)\n",
        "print('Selected AOI: ', AOI_name_test)"
      ]
    },
    {
      "cell_type": "code",
      "execution_count": null,
      "metadata": {
        "colab": {
          "base_uri": "https://localhost:8080/",
          "height": 786
        },
        "id": "xBJoYkLCfCW-",
        "outputId": "8449356f-1d07-4641-819f-ccbcf878778c"
      },
      "outputs": [
        {
          "output_type": "display_data",
          "data": {
            "text/plain": [
              "<IPython.core.display.HTML object>"
            ],
            "text/html": [
              "\n",
              "            <style>\n",
              "                .geemap-dark {\n",
              "                    --jp-widgets-color: white;\n",
              "                    --jp-widgets-label-color: white;\n",
              "                    --jp-ui-font-color1: white;\n",
              "                    --jp-layout-color2: #454545;\n",
              "                    background-color: #383838;\n",
              "                }\n",
              "\n",
              "                .geemap-dark .jupyter-button {\n",
              "                    --jp-layout-color3: #383838;\n",
              "                }\n",
              "\n",
              "                .geemap-colab {\n",
              "                    background-color: var(--colab-primary-surface-color, white);\n",
              "                }\n",
              "\n",
              "                .geemap-colab .jupyter-button {\n",
              "                    --jp-layout-color3: var(--colab-primary-surface-color, white);\n",
              "                }\n",
              "            </style>\n",
              "            "
            ]
          },
          "metadata": {}
        },
        {
          "output_type": "display_data",
          "data": {
            "text/plain": [
              "<folium.folium.Map at 0x78421022d4b0>"
            ],
            "text/html": [
              "<div style=\"width:100%;\"><div style=\"position:relative;width:100%;height:0;padding-bottom:60%;\"><span style=\"color:#565656\">Make this Notebook Trusted to load map: File -> Trust Notebook</span><iframe srcdoc=\"&lt;!DOCTYPE html&gt;\n",
              "&lt;html&gt;\n",
              "&lt;head&gt;\n",
              "    \n",
              "    &lt;meta http-equiv=&quot;content-type&quot; content=&quot;text/html; charset=UTF-8&quot; /&gt;\n",
              "    \n",
              "        &lt;script&gt;\n",
              "            L_NO_TOUCH = false;\n",
              "            L_DISABLE_3D = false;\n",
              "        &lt;/script&gt;\n",
              "    \n",
              "    &lt;style&gt;html, body {width: 100%;height: 100%;margin: 0;padding: 0;}&lt;/style&gt;\n",
              "    &lt;style&gt;#map {position:absolute;top:0;bottom:0;right:0;left:0;}&lt;/style&gt;\n",
              "    &lt;script src=&quot;https://cdn.jsdelivr.net/npm/leaflet@1.9.3/dist/leaflet.js&quot;&gt;&lt;/script&gt;\n",
              "    &lt;script src=&quot;https://code.jquery.com/jquery-1.12.4.min.js&quot;&gt;&lt;/script&gt;\n",
              "    &lt;script src=&quot;https://cdn.jsdelivr.net/npm/bootstrap@5.2.2/dist/js/bootstrap.bundle.min.js&quot;&gt;&lt;/script&gt;\n",
              "    &lt;script src=&quot;https://cdnjs.cloudflare.com/ajax/libs/Leaflet.awesome-markers/2.0.2/leaflet.awesome-markers.js&quot;&gt;&lt;/script&gt;\n",
              "    &lt;link rel=&quot;stylesheet&quot; href=&quot;https://cdn.jsdelivr.net/npm/leaflet@1.9.3/dist/leaflet.css&quot;/&gt;\n",
              "    &lt;link rel=&quot;stylesheet&quot; href=&quot;https://cdn.jsdelivr.net/npm/bootstrap@5.2.2/dist/css/bootstrap.min.css&quot;/&gt;\n",
              "    &lt;link rel=&quot;stylesheet&quot; href=&quot;https://netdna.bootstrapcdn.com/bootstrap/3.0.0/css/bootstrap.min.css&quot;/&gt;\n",
              "    &lt;link rel=&quot;stylesheet&quot; href=&quot;https://cdn.jsdelivr.net/npm/@fortawesome/fontawesome-free@6.2.0/css/all.min.css&quot;/&gt;\n",
              "    &lt;link rel=&quot;stylesheet&quot; href=&quot;https://cdnjs.cloudflare.com/ajax/libs/Leaflet.awesome-markers/2.0.2/leaflet.awesome-markers.css&quot;/&gt;\n",
              "    &lt;link rel=&quot;stylesheet&quot; href=&quot;https://cdn.jsdelivr.net/gh/python-visualization/folium/folium/templates/leaflet.awesome.rotate.min.css&quot;/&gt;\n",
              "    \n",
              "            &lt;meta name=&quot;viewport&quot; content=&quot;width=device-width,\n",
              "                initial-scale=1.0, maximum-scale=1.0, user-scalable=no&quot; /&gt;\n",
              "            &lt;style&gt;\n",
              "                #map_e13f67fd543006c3c8064a239df62dab {\n",
              "                    position: relative;\n",
              "                    width: 100.0%;\n",
              "                    height: 100.0%;\n",
              "                    left: 0.0%;\n",
              "                    top: 0.0%;\n",
              "                }\n",
              "                .leaflet-container { font-size: 1rem; }\n",
              "            &lt;/style&gt;\n",
              "        \n",
              "&lt;/head&gt;\n",
              "&lt;body&gt;\n",
              "    \n",
              "    \n",
              "            &lt;div class=&quot;folium-map&quot; id=&quot;map_e13f67fd543006c3c8064a239df62dab&quot; &gt;&lt;/div&gt;\n",
              "        \n",
              "&lt;/body&gt;\n",
              "&lt;script&gt;\n",
              "    \n",
              "    \n",
              "            var map_e13f67fd543006c3c8064a239df62dab = L.map(\n",
              "                &quot;map_e13f67fd543006c3c8064a239df62dab&quot;,\n",
              "                {\n",
              "                    center: [36.186668055598126, 39.67701124654562],\n",
              "                    crs: L.CRS.EPSG3857,\n",
              "                    zoom: 9,\n",
              "                    zoomControl: true,\n",
              "                    preferCanvas: false,\n",
              "                }\n",
              "            );\n",
              "\n",
              "            \n",
              "\n",
              "        \n",
              "    \n",
              "            var tile_layer_1f7966ae998e81aaf9c511c25aea393b = L.tileLayer(\n",
              "                &quot;https://{s}.tile.openstreetmap.org/{z}/{x}/{y}.png&quot;,\n",
              "                {&quot;attribution&quot;: &quot;Data by \\u0026copy; \\u003ca target=\\&quot;_blank\\&quot; href=\\&quot;http://openstreetmap.org\\&quot;\\u003eOpenStreetMap\\u003c/a\\u003e, under \\u003ca target=\\&quot;_blank\\&quot; href=\\&quot;http://www.openstreetmap.org/copyright\\&quot;\\u003eODbL\\u003c/a\\u003e.&quot;, &quot;detectRetina&quot;: false, &quot;maxNativeZoom&quot;: 18, &quot;maxZoom&quot;: 18, &quot;minZoom&quot;: 0, &quot;noWrap&quot;: false, &quot;opacity&quot;: 1, &quot;subdomains&quot;: &quot;abc&quot;, &quot;tms&quot;: false}\n",
              "            ).addTo(map_e13f67fd543006c3c8064a239df62dab);\n",
              "        \n",
              "    \n",
              "            var tile_layer_a174686de41f4682d819d1a8730f4cee = L.tileLayer(\n",
              "                &quot;https://earthengine.googleapis.com/v1/projects/ee-reachsyriagee/maps/0c07c41db2b40b20d2b14adee7c6b2e0-cc17afc50b977cad8584636e6f948e75/tiles/{z}/{x}/{y}&quot;,\n",
              "                {&quot;attribution&quot;: &quot;Google Earth Engine&quot;, &quot;detectRetina&quot;: false, &quot;maxNativeZoom&quot;: 18, &quot;maxZoom&quot;: 18, &quot;minZoom&quot;: 0, &quot;noWrap&quot;: false, &quot;opacity&quot;: 1, &quot;subdomains&quot;: &quot;abc&quot;, &quot;tms&quot;: false}\n",
              "            ).addTo(map_e13f67fd543006c3c8064a239df62dab);\n",
              "        \n",
              "    \n",
              "            var tile_layer_1aeeddf162310c1087193a1cb5499227 = L.tileLayer(\n",
              "                &quot;https://earthengine.googleapis.com/v1/projects/ee-reachsyriagee/maps/cdadcc1d9cb4029c1cabadc10fc91b2f-81893d5a17dc4b88f3a3305a356ff647/tiles/{z}/{x}/{y}&quot;,\n",
              "                {&quot;attribution&quot;: &quot;Google Earth Engine&quot;, &quot;detectRetina&quot;: false, &quot;maxNativeZoom&quot;: 18, &quot;maxZoom&quot;: 18, &quot;minZoom&quot;: 0, &quot;noWrap&quot;: false, &quot;opacity&quot;: 1, &quot;subdomains&quot;: &quot;abc&quot;, &quot;tms&quot;: false}\n",
              "            ).addTo(map_e13f67fd543006c3c8064a239df62dab);\n",
              "        \n",
              "    \n",
              "            var tile_layer_bbebd7795a75e7d08aaaf27860ee85f4 = L.tileLayer(\n",
              "                &quot;https://earthengine.googleapis.com/v1/projects/ee-reachsyriagee/maps/af0f52566ebde7dda74b659d8ba0d0c0-7a6b0f559eae509bfa7ca3983cd1b248/tiles/{z}/{x}/{y}&quot;,\n",
              "                {&quot;attribution&quot;: &quot;Google Earth Engine&quot;, &quot;detectRetina&quot;: false, &quot;maxNativeZoom&quot;: 18, &quot;maxZoom&quot;: 18, &quot;minZoom&quot;: 0, &quot;noWrap&quot;: false, &quot;opacity&quot;: 1, &quot;subdomains&quot;: &quot;abc&quot;, &quot;tms&quot;: false}\n",
              "            ).addTo(map_e13f67fd543006c3c8064a239df62dab);\n",
              "        \n",
              "    \n",
              "            var tile_layer_e40e3fb746c79ac2c3af47fade6143c9 = L.tileLayer(\n",
              "                &quot;https://earthengine.googleapis.com/v1/projects/ee-reachsyriagee/maps/772a64ddddd54aeaff51807f89ca64d5-f0e9256771705b47ac4c1877fdc29e8f/tiles/{z}/{x}/{y}&quot;,\n",
              "                {&quot;attribution&quot;: &quot;Google Earth Engine&quot;, &quot;detectRetina&quot;: false, &quot;maxNativeZoom&quot;: 18, &quot;maxZoom&quot;: 18, &quot;minZoom&quot;: 0, &quot;noWrap&quot;: false, &quot;opacity&quot;: 1, &quot;subdomains&quot;: &quot;abc&quot;, &quot;tms&quot;: false}\n",
              "            ).addTo(map_e13f67fd543006c3c8064a239df62dab);\n",
              "        \n",
              "    \n",
              "            var tile_layer_80f3b2722f62e044a649a70fbb634507 = L.tileLayer(\n",
              "                &quot;https://earthengine.googleapis.com/v1/projects/ee-reachsyriagee/maps/85fe695939ba8b51e8399e89c9419d53-155a4205ed9f3ee0cb4724195bb7db0f/tiles/{z}/{x}/{y}&quot;,\n",
              "                {&quot;attribution&quot;: &quot;Google Earth Engine&quot;, &quot;detectRetina&quot;: false, &quot;maxNativeZoom&quot;: 18, &quot;maxZoom&quot;: 18, &quot;minZoom&quot;: 0, &quot;noWrap&quot;: false, &quot;opacity&quot;: 1, &quot;subdomains&quot;: &quot;abc&quot;, &quot;tms&quot;: false}\n",
              "            ).addTo(map_e13f67fd543006c3c8064a239df62dab);\n",
              "        \n",
              "    \n",
              "            var tile_layer_6de23eb5c31ca429701b65f20512d43f = L.tileLayer(\n",
              "                &quot;https://earthengine.googleapis.com/v1/projects/ee-reachsyriagee/maps/b70bc641c747892dd940a38473ff30ad-92b3b61c0f20f6eced0598d6c1be8b4a/tiles/{z}/{x}/{y}&quot;,\n",
              "                {&quot;attribution&quot;: &quot;Google Earth Engine&quot;, &quot;detectRetina&quot;: false, &quot;maxNativeZoom&quot;: 18, &quot;maxZoom&quot;: 18, &quot;minZoom&quot;: 0, &quot;noWrap&quot;: false, &quot;opacity&quot;: 1, &quot;subdomains&quot;: &quot;abc&quot;, &quot;tms&quot;: false}\n",
              "            ).addTo(map_e13f67fd543006c3c8064a239df62dab);\n",
              "        \n",
              "    \n",
              "            var tile_layer_fa0e41d1aff248903c3ebee1354fd0ed = L.tileLayer(\n",
              "                &quot;https://earthengine.googleapis.com/v1/projects/ee-reachsyriagee/maps/dec472388545c55f113b58b77c2ba5b8-fc9ebf5fada51aba64f9410b6606b98f/tiles/{z}/{x}/{y}&quot;,\n",
              "                {&quot;attribution&quot;: &quot;Google Earth Engine&quot;, &quot;detectRetina&quot;: false, &quot;maxNativeZoom&quot;: 18, &quot;maxZoom&quot;: 18, &quot;minZoom&quot;: 0, &quot;noWrap&quot;: false, &quot;opacity&quot;: 1, &quot;subdomains&quot;: &quot;abc&quot;, &quot;tms&quot;: false}\n",
              "            ).addTo(map_e13f67fd543006c3c8064a239df62dab);\n",
              "        \n",
              "    \n",
              "            var tile_layer_4cd327618c0d746ea62d067281419dfb = L.tileLayer(\n",
              "                &quot;https://earthengine.googleapis.com/v1/projects/ee-reachsyriagee/maps/f4b521d8f6ada36dd74ff12f24a47223-9f5d4822b037bcc3b65e6af57e9f8b82/tiles/{z}/{x}/{y}&quot;,\n",
              "                {&quot;attribution&quot;: &quot;Google Earth Engine&quot;, &quot;detectRetina&quot;: false, &quot;maxNativeZoom&quot;: 18, &quot;maxZoom&quot;: 18, &quot;minZoom&quot;: 0, &quot;noWrap&quot;: false, &quot;opacity&quot;: 1, &quot;subdomains&quot;: &quot;abc&quot;, &quot;tms&quot;: false}\n",
              "            ).addTo(map_e13f67fd543006c3c8064a239df62dab);\n",
              "        \n",
              "    \n",
              "            var tile_layer_ec14f261ff9b9ef6ef8da8e676c4f7b9 = L.tileLayer(\n",
              "                &quot;https://earthengine.googleapis.com/v1/projects/ee-reachsyriagee/maps/8243a1150dea1c240d8ccff28349b882-22972bebd618b2721a2bbd62e583a563/tiles/{z}/{x}/{y}&quot;,\n",
              "                {&quot;attribution&quot;: &quot;Google Earth Engine&quot;, &quot;detectRetina&quot;: false, &quot;maxNativeZoom&quot;: 18, &quot;maxZoom&quot;: 18, &quot;minZoom&quot;: 0, &quot;noWrap&quot;: false, &quot;opacity&quot;: 1, &quot;subdomains&quot;: &quot;abc&quot;, &quot;tms&quot;: false}\n",
              "            ).addTo(map_e13f67fd543006c3c8064a239df62dab);\n",
              "        \n",
              "    \n",
              "            var tile_layer_9ca1a91a873d70fa07cbd841d390dc78 = L.tileLayer(\n",
              "                &quot;https://earthengine.googleapis.com/v1/projects/ee-reachsyriagee/maps/30f9822c161bf8688b9b66b81e8a8a5e-15988b36d58943dbe8587ddac038f5dc/tiles/{z}/{x}/{y}&quot;,\n",
              "                {&quot;attribution&quot;: &quot;Google Earth Engine&quot;, &quot;detectRetina&quot;: false, &quot;maxNativeZoom&quot;: 18, &quot;maxZoom&quot;: 18, &quot;minZoom&quot;: 0, &quot;noWrap&quot;: false, &quot;opacity&quot;: 1, &quot;subdomains&quot;: &quot;abc&quot;, &quot;tms&quot;: false}\n",
              "            ).addTo(map_e13f67fd543006c3c8064a239df62dab);\n",
              "        \n",
              "    \n",
              "            var tile_layer_b492a96794126225805b6062c9638840 = L.tileLayer(\n",
              "                &quot;https://earthengine.googleapis.com/v1/projects/ee-reachsyriagee/maps/024dfdc4a15d1b2b11742104638bba0e-a5af309d095d95982d4920ddefc9e16a/tiles/{z}/{x}/{y}&quot;,\n",
              "                {&quot;attribution&quot;: &quot;Google Earth Engine&quot;, &quot;detectRetina&quot;: false, &quot;maxNativeZoom&quot;: 18, &quot;maxZoom&quot;: 18, &quot;minZoom&quot;: 0, &quot;noWrap&quot;: false, &quot;opacity&quot;: 1, &quot;subdomains&quot;: &quot;abc&quot;, &quot;tms&quot;: false}\n",
              "            ).addTo(map_e13f67fd543006c3c8064a239df62dab);\n",
              "        \n",
              "    \n",
              "            var tile_layer_23ea956d1cf3663a3cc41463ff563773 = L.tileLayer(\n",
              "                &quot;https://earthengine.googleapis.com/v1/projects/ee-reachsyriagee/maps/5adfa3b71eb32eaa50515266edcd4fe9-dc82c648c5e20e81f861b960141c7789/tiles/{z}/{x}/{y}&quot;,\n",
              "                {&quot;attribution&quot;: &quot;Google Earth Engine&quot;, &quot;detectRetina&quot;: false, &quot;maxNativeZoom&quot;: 18, &quot;maxZoom&quot;: 18, &quot;minZoom&quot;: 0, &quot;noWrap&quot;: false, &quot;opacity&quot;: 1, &quot;subdomains&quot;: &quot;abc&quot;, &quot;tms&quot;: false}\n",
              "            ).addTo(map_e13f67fd543006c3c8064a239df62dab);\n",
              "        \n",
              "    \n",
              "            var tile_layer_3d831008254ab7d0ad4f6e461a1c9791 = L.tileLayer(\n",
              "                &quot;https://earthengine.googleapis.com/v1/projects/ee-reachsyriagee/maps/fa79e128e32bc3e83c935db2f8632650-27e3dadc99f852c4cb82af2cf88d16f6/tiles/{z}/{x}/{y}&quot;,\n",
              "                {&quot;attribution&quot;: &quot;Google Earth Engine&quot;, &quot;detectRetina&quot;: false, &quot;maxNativeZoom&quot;: 18, &quot;maxZoom&quot;: 18, &quot;minZoom&quot;: 0, &quot;noWrap&quot;: false, &quot;opacity&quot;: 1, &quot;subdomains&quot;: &quot;abc&quot;, &quot;tms&quot;: false}\n",
              "            ).addTo(map_e13f67fd543006c3c8064a239df62dab);\n",
              "        \n",
              "    \n",
              "            var tile_layer_8940a3f7d4c953eeab33e77c02d68799 = L.tileLayer(\n",
              "                &quot;https://earthengine.googleapis.com/v1/projects/ee-reachsyriagee/maps/c9ed86bbd24d2577da84667312b453f7-9c4badc6b54c4a37043743b382de52cd/tiles/{z}/{x}/{y}&quot;,\n",
              "                {&quot;attribution&quot;: &quot;Google Earth Engine&quot;, &quot;detectRetina&quot;: false, &quot;maxNativeZoom&quot;: 18, &quot;maxZoom&quot;: 18, &quot;minZoom&quot;: 0, &quot;noWrap&quot;: false, &quot;opacity&quot;: 1, &quot;subdomains&quot;: &quot;abc&quot;, &quot;tms&quot;: false}\n",
              "            ).addTo(map_e13f67fd543006c3c8064a239df62dab);\n",
              "        \n",
              "    \n",
              "            var tile_layer_20a526ad1262813a6d9fb604b5cf00be = L.tileLayer(\n",
              "                &quot;https://earthengine.googleapis.com/v1/projects/ee-reachsyriagee/maps/4f9f8f0e78b54df937489da4d603cdb4-d1f52700f59aa2eaaa5d6d8fdb4782c6/tiles/{z}/{x}/{y}&quot;,\n",
              "                {&quot;attribution&quot;: &quot;Google Earth Engine&quot;, &quot;detectRetina&quot;: false, &quot;maxNativeZoom&quot;: 18, &quot;maxZoom&quot;: 18, &quot;minZoom&quot;: 0, &quot;noWrap&quot;: false, &quot;opacity&quot;: 1, &quot;subdomains&quot;: &quot;abc&quot;, &quot;tms&quot;: false}\n",
              "            ).addTo(map_e13f67fd543006c3c8064a239df62dab);\n",
              "        \n",
              "    \n",
              "            var layer_control_0ae6be9394b6819be5ea8001a1dcc6af = {\n",
              "                base_layers : {\n",
              "                    &quot;openstreetmap&quot; : tile_layer_1f7966ae998e81aaf9c511c25aea393b,\n",
              "                },\n",
              "                overlays :  {\n",
              "                    &quot;NDVI  2024-03-01&quot; : tile_layer_a174686de41f4682d819d1a8730f4cee,\n",
              "                    &quot;NDVI anomaly 2024-03-01&quot; : tile_layer_1aeeddf162310c1087193a1cb5499227,\n",
              "                    &quot;NDVI anomaly (%) aggregated 2024-03-01&quot; : tile_layer_bbebd7795a75e7d08aaaf27860ee85f4,\n",
              "                    &quot;NDVI anomaly (%) 2024-03-01&quot; : tile_layer_e40e3fb746c79ac2c3af47fade6143c9,\n",
              "                    &quot;LST  2024-03-01&quot; : tile_layer_80f3b2722f62e044a649a70fbb634507,\n",
              "                    &quot;LST anomaly 2024-03-01&quot; : tile_layer_6de23eb5c31ca429701b65f20512d43f,\n",
              "                    &quot;LST anomaly (%) aggregated 2024-03-01&quot; : tile_layer_fa0e41d1aff248903c3ebee1354fd0ed,\n",
              "                    &quot;LST anomaly (%) 2024-03-01&quot; : tile_layer_4cd327618c0d746ea62d067281419dfb,\n",
              "                    &quot;Rainfall  2024-03-01&quot; : tile_layer_ec14f261ff9b9ef6ef8da8e676c4f7b9,\n",
              "                    &quot;Rainfall anomaly 2024-03-01&quot; : tile_layer_9ca1a91a873d70fa07cbd841d390dc78,\n",
              "                    &quot;Rainfall anomaly (%) aggregated 2024-03-01&quot; : tile_layer_b492a96794126225805b6062c9638840,\n",
              "                    &quot;Rainfall anomaly (%) 2024-03-01&quot; : tile_layer_23ea956d1cf3663a3cc41463ff563773,\n",
              "                    &quot;SPI image 2024-03-01&quot; : tile_layer_3d831008254ab7d0ad4f6e461a1c9791,\n",
              "                    &quot;Soil moisture image 2024-03-01&quot; : tile_layer_8940a3f7d4c953eeab33e77c02d68799,\n",
              "                    &quot;AOI&quot; : tile_layer_20a526ad1262813a6d9fb604b5cf00be,\n",
              "                },\n",
              "            };\n",
              "            L.control.layers(\n",
              "                layer_control_0ae6be9394b6819be5ea8001a1dcc6af.base_layers,\n",
              "                layer_control_0ae6be9394b6819be5ea8001a1dcc6af.overlays,\n",
              "                {&quot;autoZIndex&quot;: true, &quot;collapsed&quot;: true, &quot;position&quot;: &quot;topright&quot;}\n",
              "            ).addTo(map_e13f67fd543006c3c8064a239df62dab);\n",
              "        \n",
              "&lt;/script&gt;\n",
              "&lt;/html&gt;\" style=\"position:absolute;width:100%;height:100%;left:0;top:0;border:none !important;\" allowfullscreen webkitallowfullscreen mozallowfullscreen></iframe></div></div>"
            ]
          },
          "metadata": {}
        }
      ],
      "source": [
        "date = ee.Date(date_str)\n",
        "# last_date_ssm = date.advance(-1,'month')\n",
        "\n",
        "# Set start zoom\n",
        "zoom = 9\n",
        "\n",
        "# Add EE drawing method to folium.\n",
        "folium.Map.add_ee_layer = add_ee_layer\n",
        "\n",
        "# Set visualisation parameters\n",
        "vis_ndvi =  {\"opacity\":1,\"bands\":[\"NDVI\"],\"min\":0,\"max\":1, \"palette\": [\"white\", \"green\"]}\n",
        "vis_ndvi_anom =  {\"opacity\":1,\"bands\":[\"NDVI\"],\"min\":-0.3,\"max\":0.3, \"palette\": [\"red\", \"white\", \"green\"]}\n",
        "vis_ndvi_anom_perc =  {\"opacity\":1,\"bands\":[\"NDVI\"],\"min\":-50,\"max\":50, \"palette\": [\"red\", \"white\", \"green\"]}\n",
        "vis_ndvi_anom_perc_aggr = {\"opacity\":1,\"bands\":[\"constant\"],\"min\":-30,\"max\":30, \"palette\": [\"red\", \"white\", \"green\"]}\n",
        "\n",
        "vis_lst =  {\"opacity\":1,\"bands\":[\"Celsius\"],\"min\":10,\"max\":40, \"palette\": [\"white\", \"orange\"]}\n",
        "vis_lst_anom =  {\"opacity\":1,\"bands\":[\"Celsius\"],\"min\":-10,\"max\":10, \"palette\": [\"blue\", \"white\", \"orange\"]}\n",
        "vis_lst_anom_perc =  {\"opacity\":1,\"bands\":[\"Celsius\"],\"min\":-50,\"max\":50, \"palette\": [\"blue\", \"white\", \"orange\"]}\n",
        "vis_lst_anom_perc_aggr = {\"opacity\":1,\"bands\":[\"constant\"],\"min\":-20,\"max\":20, \"palette\": [\"blue\",\"white\", \"orange\"]}\n",
        "\n",
        "vis_rain = {\"opacity\":1,\"bands\":[\"Precipitation\"],\"min\":0,\"max\":20, \"palette\": [\"white\", \"blue\"]}\n",
        "vis_rain_anom = {\"opacity\":1,\"bands\":[\"Precipitation\"],\"min\":-20,\"max\":20, \"palette\": [\"red\", \"white\", \"blue\"]}\n",
        "vis_rain_anom_perc = {\"opacity\":1,\"bands\":[\"Precipitation\"],\"min\":-50,\"max\":50, \"palette\": [\"red\", \"white\", \"blue\"]}\n",
        "vis_rain_anom_perc_aggr = {\"opacity\":1,\"bands\":[\"constant\"],\"min\":-30,\"max\":30, \"palette\": [\"red\", \"white\", \"blue\"]}\n",
        "vis_spi = {\"opacity\":1,\"bands\":[\"SPI\"],\"min\":-2,\"max\":2, \"palette\": [\"red\", \"white\", \"blue\"]}\n",
        "\n",
        "vis_ssm = {\"opaciyeah of ty\":1,\"bands\":[\"sm_surface\"],\"min\":0,\"max\":0.6, \"palette\": [\"brown\", \"white\", \"blue\"]}\n",
        "# Create a folium map object.\n",
        "my_map = folium.Map(location=[centroid.getInfo()['coordinates'][1], centroid.getInfo()['coordinates'][0]], zoom_start=zoom)\n",
        "\n",
        "# Select last images of image collections\n",
        "img_ndvi = modis_ndvi_monthly.filterDate(date,date.advance(1, 'month')).first()\n",
        "img_ndvi_anom = modis_ndvi_monthly_anom.filterDate(date,date.advance(1, 'month')).first()\n",
        "img_ndvi_anom_perc = modis_ndvi_monthly_anom_perc.filterDate(date,date.advance(1, 'month')).first()\n",
        "\n",
        "img_lst = modis_lst_monthly.filterDate(date,date.advance(1, 'month')).first()\n",
        "img_lst_anom = modis_lst_monthly_anom.filterDate(date,date.advance(1, 'month')).first()\n",
        "img_lst_anom_perc = modis_lst_monthly_anom_perc.filterDate(date,date.advance(1, 'month')).first()\n",
        "\n",
        "img_rain = rain_monthly.filterDate(date,date.advance(1, 'month')).first()\n",
        "img_rain_anom = rain_monthly_anom.filterDate(date,date.advance(1, 'month')).first()\n",
        "img_rain_anom_perc = rain_monthly_anom_perc.filterDate(date,date.advance(1, 'month')).first()\n",
        "\n",
        "img_spi = spi_monthly.filterDate(date,date.advance(1, 'month')).first()\n",
        "img_ssm = ssm_monthly.filterDate(date,date.advance(1, 'month')).first()\n",
        "# img_ssm = ssm_monthly.filterDate(last_date_ssm,last_date_ssm.advance(1, 'month')).first()\n",
        "\n",
        "# Reduce each image to a feature collection\n",
        "# fc_ndvi = img_ndvi.reduceRegions(collection=AOI_test, reducer=ee.Reducer.mean(), scale=aggr_scale_test, tileScale=16)\n",
        "fc_ndvi_anom_perc = img_ndvi_anom_perc.reduceRegions(collection=AOI_test, reducer=ee.Reducer.mean(), scale=aggr_scale_test, tileScale=16)\n",
        "# fc_lst = img_lst.reduceRegions(collection=AOI_test, reducer=ee.Reducer.mean(), scale=aggr_scale_test, tileScale=16)\n",
        "fc_lst_anom_perc = img_lst_anom_perc.reduceRegions(collection=AOI_test, reducer=ee.Reducer.mean(), scale=aggr_scale_test, tileScale=16)\n",
        "fc_rain_anom_perc = img_rain_anom_perc.reduceRegions(collection=AOI_test, reducer=ee.Reducer.mean(), scale=aggr_scale_test, tileScale=16)\n",
        "\n",
        "# Paint on empty image\n",
        "empty_img = ee.Image().byte();\n",
        "# fc_ndvi_painted = empty_img.paint(featureCollection = fc_ndvi, color= 'mean')\n",
        "fc_ndvi_anom_perc_painted = empty_img.paint(featureCollection = fc_ndvi_anom_perc, color= 'mean')\n",
        "# fc_lst_painted = empty_img.paint(featureCollection = fc_lst, color= 'mean')\n",
        "fc_lst_anom_perc_painted = empty_img.paint(featureCollection = fc_lst_anom_perc, color= 'mean')\n",
        "fc_rain_anom_perc_painted = empty_img.paint(featureCollection = fc_rain_anom_perc, color= 'mean')\n",
        "\n",
        "# Visualise layer\n",
        "my_map.add_ee_layer(img_ndvi.select(['NDVI']), vis_ndvi, 'NDVI  ' +date_str)\n",
        "my_map.add_ee_layer(img_ndvi_anom.select(['NDVI']), vis_ndvi_anom, 'NDVI anomaly ' + date_str)\n",
        "my_map.add_ee_layer(fc_ndvi_anom_perc_painted, vis_ndvi_anom_perc_aggr, 'NDVI anomaly (%) aggregated ' + date_str)\n",
        "my_map.add_ee_layer(img_ndvi_anom_perc.select(['NDVI']), vis_ndvi_anom_perc, 'NDVI anomaly (%) ' + date_str)\n",
        "\n",
        "my_map.add_ee_layer(img_lst.select(['Celsius']), vis_lst, 'LST  ' + date_str)\n",
        "my_map.add_ee_layer(img_lst_anom.select(['Celsius']), vis_lst_anom, 'LST anomaly ' + date_str)\n",
        "my_map.add_ee_layer(fc_lst_anom_perc_painted, vis_lst_anom_perc_aggr, 'LST anomaly (%) aggregated ' + date_str)\n",
        "my_map.add_ee_layer(img_lst_anom_perc.select(['Celsius']), vis_lst_anom_perc, 'LST anomaly (%) ' + date_str)\n",
        "\n",
        "my_map.add_ee_layer(img_rain.select(['Precipitation']), vis_rain, 'Rainfall  ' + date_str)\n",
        "my_map.add_ee_layer(img_rain_anom.select(['Precipitation']), vis_rain_anom, 'Rainfall anomaly ' + date_str)\n",
        "my_map.add_ee_layer(fc_rain_anom_perc_painted, vis_rain_anom_perc_aggr, 'Rainfall anomaly (%) aggregated ' + date_str)\n",
        "my_map.add_ee_layer(img_rain_anom_perc.select(['Precipitation']), vis_rain_anom_perc, 'Rainfall anomaly (%) ' +date_str)\n",
        "\n",
        "my_map.add_ee_layer(img_spi.select(['SPI']), vis_spi, 'SPI image ' + date_str)\n",
        "\n",
        "my_map.add_ee_layer(img_ssm.select(['sm_surface']), vis_ssm, 'Soil moisture image ' + date_str)\n",
        "# my_map.add_ee_layer(img_ssm.select(['sm_surface']), vis_ssm, 'Soil moisture image ' + last_date_ssm.format('YYYY-MM-dd').getInfo())\n",
        "# my_map.add_ee_layer(crop_mask.selfMask(), {'palette':['yellow']}, 'crop_mask')\n",
        "\n",
        "my_map.add_ee_layer(AOI_test, {}, 'AOI')\n",
        "\n",
        "# # Add a layer control panel to the map.\n",
        "my_map.add_child(folium.LayerControl())\n",
        "\n",
        "# Display the map.\n",
        "display(my_map)"
      ]
    },
    {
      "cell_type": "markdown",
      "source": [
        "# Export"
      ],
      "metadata": {
        "id": "2QbaY9ainx0R"
      }
    },
    {
      "cell_type": "code",
      "source": [
        "row_id = 'ID_comb' # column name for ID that combines date and MASTER_ID and date = unique ID in resulting csv table"
      ],
      "metadata": {
        "colab": {
          "base_uri": "https://localhost:8080/",
          "height": 17
        },
        "id": "2X87ZnPzq-0G",
        "outputId": "50c64281-4e42-4afd-9c12-b151bc445c91"
      },
      "execution_count": null,
      "outputs": [
        {
          "output_type": "display_data",
          "data": {
            "text/plain": [
              "<IPython.core.display.HTML object>"
            ],
            "text/html": [
              "\n",
              "            <style>\n",
              "                .geemap-dark {\n",
              "                    --jp-widgets-color: white;\n",
              "                    --jp-widgets-label-color: white;\n",
              "                    --jp-ui-font-color1: white;\n",
              "                    --jp-layout-color2: #454545;\n",
              "                    background-color: #383838;\n",
              "                }\n",
              "\n",
              "                .geemap-dark .jupyter-button {\n",
              "                    --jp-layout-color3: #383838;\n",
              "                }\n",
              "\n",
              "                .geemap-colab {\n",
              "                    background-color: var(--colab-primary-surface-color, white);\n",
              "                }\n",
              "\n",
              "                .geemap-colab .jupyter-button {\n",
              "                    --jp-layout-color3: var(--colab-primary-surface-color, white);\n",
              "                }\n",
              "            </style>\n",
              "            "
            ]
          },
          "metadata": {}
        }
      ]
    },
    {
      "cell_type": "markdown",
      "source": [
        "## Climate indicators\n",
        "(all except groundwater)\n",
        "\n",
        "`update_table_climate == True`\n",
        "\n",
        "*   Spatially aggregates pixel values for indicated time period\n",
        "*   Adds to the new rows to the current table (exports it as new file)\n",
        "*   Computionally less heavy\n",
        "\n",
        "\n",
        "`update_table_climae == False`\n",
        "*   Spatially aggregates pixel values for indicated time period\n",
        "*   Creates new table\n",
        "*   Computionally heavier\n"
      ],
      "metadata": {
        "id": "8FptZqA5EgaD"
      }
    },
    {
      "cell_type": "code",
      "source": [
        "print(\"Update exisiting table? \", update_table_climate)"
      ],
      "metadata": {
        "colab": {
          "base_uri": "https://localhost:8080/",
          "height": 35
        },
        "id": "IobiMmq4lxlA",
        "outputId": "d148b4bf-55e2-4f6a-aba9-2e44976d4749"
      },
      "execution_count": null,
      "outputs": [
        {
          "output_type": "display_data",
          "data": {
            "text/plain": [
              "<IPython.core.display.HTML object>"
            ],
            "text/html": [
              "\n",
              "            <style>\n",
              "                .geemap-dark {\n",
              "                    --jp-widgets-color: white;\n",
              "                    --jp-widgets-label-color: white;\n",
              "                    --jp-ui-font-color1: white;\n",
              "                    --jp-layout-color2: #454545;\n",
              "                    background-color: #383838;\n",
              "                }\n",
              "\n",
              "                .geemap-dark .jupyter-button {\n",
              "                    --jp-layout-color3: #383838;\n",
              "                }\n",
              "\n",
              "                .geemap-colab {\n",
              "                    background-color: var(--colab-primary-surface-color, white);\n",
              "                }\n",
              "\n",
              "                .geemap-colab .jupyter-button {\n",
              "                    --jp-layout-color3: var(--colab-primary-surface-color, white);\n",
              "                }\n",
              "            </style>\n",
              "            "
            ]
          },
          "metadata": {}
        },
        {
          "output_type": "stream",
          "name": "stdout",
          "text": [
            "Update exisiting table?  True\n"
          ]
        }
      ]
    },
    {
      "cell_type": "markdown",
      "source": [
        "**Test aggregation before joining indicator feature collections and running export**"
      ],
      "metadata": {
        "id": "v1jAh8hGnr03"
      }
    },
    {
      "cell_type": "code",
      "source": [
        "# Test aggregation before running export.\n",
        "AOI_name_test = 'ADM1' # 'ADM1', 'ADM2', 'ADM3', 'Hex', 'Agri_ADM1', 'Agri_ADM2', 'Agri_NES_NWS'\n",
        "image_collection = spi_monthly # e.g. spi_monthly, modis_ndvi_monthly\n",
        "band_name = 'SPI'\n",
        "AOI_test = aoi_dict[AOI_name_test]['AOI']\n",
        "aggr_scale_test = aoi_dict[AOI_name_test]['aggr_scale']\n",
        "ee_selected_props = aoi_dict[AOI_name_test]['property_selectors']\n",
        "\n",
        "\n",
        "fc = aggregate_to_fc_flattened_mean(image_collection, AOI_test, aggr_scale_test, start_date_export, last_date_export, ee_selected_props, band_name)\n",
        "\n",
        "try:\n",
        "  print('First polygon of feature collection: ', fc.first().getInfo())\n",
        "  print('Aggregation worked')\n",
        "except:\n",
        "  print('Aggregation failed')"
      ],
      "metadata": {
        "colab": {
          "base_uri": "https://localhost:8080/",
          "height": 73
        },
        "id": "ywuFEdsZvoaU",
        "outputId": "f453c773-d6fd-4180-f737-530204402cda"
      },
      "execution_count": null,
      "outputs": [
        {
          "output_type": "display_data",
          "data": {
            "text/plain": [
              "<IPython.core.display.HTML object>"
            ],
            "text/html": [
              "\n",
              "            <style>\n",
              "                .geemap-dark {\n",
              "                    --jp-widgets-color: white;\n",
              "                    --jp-widgets-label-color: white;\n",
              "                    --jp-ui-font-color1: white;\n",
              "                    --jp-layout-color2: #454545;\n",
              "                    background-color: #383838;\n",
              "                }\n",
              "\n",
              "                .geemap-dark .jupyter-button {\n",
              "                    --jp-layout-color3: #383838;\n",
              "                }\n",
              "\n",
              "                .geemap-colab {\n",
              "                    background-color: var(--colab-primary-surface-color, white);\n",
              "                }\n",
              "\n",
              "                .geemap-colab .jupyter-button {\n",
              "                    --jp-layout-color3: var(--colab-primary-surface-color, white);\n",
              "                }\n",
              "            </style>\n",
              "            "
            ]
          },
          "metadata": {}
        },
        {
          "output_type": "stream",
          "name": "stdout",
          "text": [
            "First polygon of feature collection:  {'type': 'Feature', 'geometry': None, 'id': '87_00000000000000000000', 'properties': {'ADM1_EN': 'Aleppo (NES)', 'ADM1_PCODE': 'SY02', 'Date': '2024-04', 'ID_comb': '0_2024-04', 'MASTER_ID': 0, 'SPI': -0.3225655222673685, 'region': 'NES'}}\n",
            "Aggregation worked\n"
          ]
        }
      ]
    },
    {
      "cell_type": "markdown",
      "source": [
        "**Export**"
      ],
      "metadata": {
        "id": "2mx4WtAWk7EV"
      }
    },
    {
      "cell_type": "code",
      "source": [
        "# Start and end date for monthly indicators (end date is inclusive)\n",
        "start = start_date_export\n",
        "end = last_date_export\n",
        "\n",
        "print('Selected start date: ', start)\n",
        "print('Selected end date: ', end)\n",
        "\n",
        "\n",
        "for i in AOI_names:\n",
        "  print(color.BOLD + i + color.END)\n",
        "\n",
        "  ee_selected_props = aoi_dict[i]['property_selectors'] # ee.List\n",
        "  AOI = aoi_dict[i]['AOI'].select(ee_selected_props) # ee.FeatureCollection\n",
        "  aggr_scale = aoi_dict[i]['aggr_scale'] # integer\n",
        "\n",
        "  # Aggregate pixel values to mean values for each polygon\n",
        "  fc_ndvi_monthly = aggregate_to_fc_flattened_mean(modis_ndvi_monthly_filtered, AOI, aggr_scale, start, end, ee_selected_props, 'NDVI')\n",
        "  fc_ndvi_monthly_anom = aggregate_to_fc_flattened_mean(modis_ndvi_monthly_anom, AOI, aggr_scale, start, end, ee_selected_props, 'NDVI_anom')\n",
        "  fc_ndvi_monthly_anom_perc = aggregate_to_fc_flattened_mean(modis_ndvi_monthly_anom_perc, AOI, aggr_scale, start, end, ee_selected_props, 'NDVI_anom_perc')\n",
        "  fc_lst_monthly = aggregate_to_fc_flattened_mean(modis_lst_monthly_filtered, AOI, aggr_scale, start, end, ee_selected_props, 'LST')\n",
        "  fc_lst_monthly_anom = aggregate_to_fc_flattened_mean(modis_lst_monthly_anom, AOI, aggr_scale, start, end, ee_selected_props, 'LST_anom')\n",
        "  fc_lst_monthly_anom_perc = aggregate_to_fc_flattened_mean(modis_lst_monthly_anom_perc, AOI, aggr_scale, start, end, ee_selected_props, 'LST_anom_perc')\n",
        "  fc_rain_monthly = aggregate_to_fc_flattened_mean(rain_monthly, AOI, aggr_scale, start, end, ee_selected_props, 'Precip')\n",
        "  fc_rain_monthly_anom = aggregate_to_fc_flattened_mean(rain_monthly_anom, AOI, aggr_scale, start, end, ee_selected_props, 'Precip_anom')\n",
        "  fc_rain_monthly_anom_perc = aggregate_to_fc_flattened_mean(rain_monthly_anom_perc, AOI, aggr_scale, start, end, ee_selected_props, 'Precip_anom_perc')\n",
        "  fc_rain_monthly_hist_mean = aggregate_to_fc_flattened_mean(rain_monthly_and_histo.select(['Precipitation_hist_mean']), AOI, aggr_scale, start, end, ee_selected_props, 'Precip_hist_mean')\n",
        "  fc_spi_monthly = aggregate_to_fc_flattened_mean(spi_monthly, AOI, aggr_scale, start, end, ee_selected_props, 'SPI')\n",
        "  fc_ssm_monthly = aggregate_to_fc_flattened_mean(ssm_monthly, AOI, aggr_scale, start, end, ee_selected_props, 'SSM')\n",
        "\n",
        "\n",
        "  # Join the tables\n",
        "  fc_joined = join_fc(fc_ndvi_monthly, fc_ndvi_monthly_anom, row_id, 'NDVI_anom') # Join NDVI anomaly feature collection to NDVI feature collection\n",
        "  fc_joined = join_fc(fc_joined, fc_ndvi_monthly_anom_perc, row_id, 'NDVI_anom_perc')\n",
        "  fc_joined = join_fc(fc_joined, fc_lst_monthly, row_id, 'LST')\n",
        "  fc_joined = join_fc(fc_joined, fc_lst_monthly_anom, row_id, 'LST_anom')\n",
        "  fc_joined = join_fc(fc_joined, fc_lst_monthly_anom_perc, row_id, 'LST_anom_perc')\n",
        "  fc_joined = join_fc(fc_joined, fc_rain_monthly, row_id, 'Precip')\n",
        "  fc_joined = join_fc(fc_joined, fc_rain_monthly_anom, row_id, 'Precip_anom')\n",
        "  fc_joined = join_fc(fc_joined, fc_rain_monthly_anom_perc, row_id, 'Precip_anom_perc')\n",
        "  fc_joined = join_fc(fc_joined, fc_rain_monthly_hist_mean, row_id, 'Precip_hist_mean')\n",
        "  fc_joined = join_fc(fc_joined, fc_spi_monthly, row_id, 'SPI')\n",
        "  fc_joined = join_fc(fc_joined, fc_ssm_monthly, row_id, 'SSM')\n",
        "\n",
        "  property_names = ['Date', row_id] + ee_selected_props.getInfo() # list\n",
        "  # print('Property names: ', property_names)\n",
        "  column_names_new_data = property_names + indicator_names\n",
        "  # print('Column names new table', column_names_new_data)\n",
        "\n",
        "  if update_table_climate:\n",
        "    try:\n",
        "      # Fetch most recent csv table stored in gdrive\n",
        "      file_name = i + '_' + file_name_base + '_' + first_date_current_csv + '_' + last_date_current_csv + '.csv'\n",
        "      print('Current CSV file name: ', file_name)\n",
        "      # Check last date in csv table (should be same as file ending)\n",
        "      df = pd.read_csv(gdrive_output_folder + file_name )\n",
        "      print('Newest date in current CSV: ', df[['Date', id_column_name]].dropna().iloc[-1]['Date'])\n",
        "\n",
        "    except FileNotFoundError:\n",
        "      print(color.BOLD + \"CSV file not found.\" + color.END)\n",
        "      break\n",
        "\n",
        "    # Get column names of current csv table\n",
        "    column_names = list(df)\n",
        "    # print('Column names current table: ', column_names)\n",
        "\n",
        "    if set(column_names_new_data) == set(column_names):\n",
        "      # print('Column names are identical')\n",
        "\n",
        "      print(f'Number of rows of the current table: {len(df)}')\n",
        "      df_new = df.copy()\n",
        "      #  Add new rows to table - convert ee.FeatureCollection to pd.df\n",
        "      dict_ = convert_coll_to_clientDict(fc_joined, column_names_new_data)\n",
        "      df_data_to_add = pd.DataFrame(dict_)\n",
        "      print(f'Number of rows of the data to add: {len(df_data_to_add)} ')\n",
        "      df_merged = pd.concat([df_new, df_data_to_add])#.reset_index().drop(['index'], axis=1)\n",
        "      print(f'Number of rows of merged table: {len(df_merged)}')\n",
        "\n",
        "      file_name_new = i + '_' + file_name_base + '_' + first_date_current_csv + '_' + end + '.csv'\n",
        "      print('New CSV file name: ', file_name_new)\n",
        "\n",
        "      # # Export csv to local drive\n",
        "      # df_merged.to_csv(file_name_new)\n",
        "      # files.download(file_name_new)\n",
        "\n",
        "      # Export csv to Google Drive\n",
        "      df_merged.to_csv(gdrive_output_folder + file_name_new, index=False)\n",
        "      print('Updated CSV table saved to gdrive folder ', color.ITALIC + gdrive_output_folder + color.END)\n",
        "      print(' ')\n",
        "\n",
        "    else:\n",
        "      print(color.BOLD + 'Column names of new and current (in gdrive) table are different' + color.END)\n",
        "      break\n",
        "\n",
        "  else:\n",
        "\n",
        "    file_name_new = i + '_' + file_name_base + '_' + start + '_' + end\n",
        "    print('CSV file name: ', file_name_new)\n",
        "\n",
        "    # Export table as csv to drive\n",
        "    task = ee.batch.Export.table.toDrive(\n",
        "        collection = fc_joined,\n",
        "        description = file_name_new,\n",
        "        folder = gdrive_output_folder_new_table,\n",
        "        fileFormat = 'CSV',\n",
        "        selectors = column_names_new_data,\n",
        "    )\n",
        "    task.start()\n",
        "    print('New base CSV table exportig to gdrive folder: ' + color.ITALIC + gdrive_output_folder_new_table + color.END)\n",
        "    print(' ')"
      ],
      "metadata": {
        "colab": {
          "base_uri": "https://localhost:8080/",
          "height": 874
        },
        "id": "tUkC0pcTgMq6",
        "outputId": "4977317a-2b72-4bb2-cc7d-18fddfa2bb94"
      },
      "execution_count": null,
      "outputs": [
        {
          "output_type": "display_data",
          "data": {
            "text/plain": [
              "<IPython.core.display.HTML object>"
            ],
            "text/html": [
              "\n",
              "            <style>\n",
              "                .geemap-dark {\n",
              "                    --jp-widgets-color: white;\n",
              "                    --jp-widgets-label-color: white;\n",
              "                    --jp-ui-font-color1: white;\n",
              "                    --jp-layout-color2: #454545;\n",
              "                    background-color: #383838;\n",
              "                }\n",
              "\n",
              "                .geemap-dark .jupyter-button {\n",
              "                    --jp-layout-color3: #383838;\n",
              "                }\n",
              "\n",
              "                .geemap-colab {\n",
              "                    background-color: var(--colab-primary-surface-color, white);\n",
              "                }\n",
              "\n",
              "                .geemap-colab .jupyter-button {\n",
              "                    --jp-layout-color3: var(--colab-primary-surface-color, white);\n",
              "                }\n",
              "            </style>\n",
              "            "
            ]
          },
          "metadata": {}
        },
        {
          "output_type": "stream",
          "name": "stdout",
          "text": [
            "Selected start date:  2024-04-01\n",
            "Selected end date:  2024-05-01\n",
            "\u001b[1mADM1\u001b[0m\n",
            "Current CSV file name:  ADM1_NDVI_LST_Precip_SPI_SSM_2017-01-01_2024-03-01.csv\n",
            "Newest date in current CSV:  2024-03\n",
            "Number of rows of the current table: 522\n",
            "Number of rows of the data to add: 12 \n",
            "Number of rows of merged table: 534\n",
            "New CSV file name:  ADM1_NDVI_LST_Precip_SPI_SSM_2017-01-01_2024-05-01.csv\n",
            "Updated CSV table saved to gdrive folder  \u001b[3m/drive/My Drive/Climate_monitoring/climate_indicator_time_series_monthly/\u001b[0m\n",
            " \n",
            "\u001b[1mADM2\u001b[0m\n",
            "Current CSV file name:  ADM2_NDVI_LST_Precip_SPI_SSM_2017-01-01_2024-03-01.csv\n",
            "Newest date in current CSV:  2024-03\n",
            "Number of rows of the current table: 2088\n",
            "Number of rows of the data to add: 48 \n",
            "Number of rows of merged table: 2136\n",
            "New CSV file name:  ADM2_NDVI_LST_Precip_SPI_SSM_2017-01-01_2024-05-01.csv\n",
            "Updated CSV table saved to gdrive folder  \u001b[3m/drive/My Drive/Climate_monitoring/climate_indicator_time_series_monthly/\u001b[0m\n",
            " \n",
            "\u001b[1mADM3\u001b[0m\n",
            "Current CSV file name:  ADM3_NDVI_LST_Precip_SPI_SSM_2017-01-01_2024-03-01.csv\n",
            "Newest date in current CSV:  2024-03\n",
            "Number of rows of the current table: 6960\n",
            "Number of rows of the data to add: 160 \n",
            "Number of rows of merged table: 7120\n",
            "New CSV file name:  ADM3_NDVI_LST_Precip_SPI_SSM_2017-01-01_2024-05-01.csv\n",
            "Updated CSV table saved to gdrive folder  \u001b[3m/drive/My Drive/Climate_monitoring/climate_indicator_time_series_monthly/\u001b[0m\n",
            " \n",
            "\u001b[1mAgri_ADM1\u001b[0m\n",
            "Current CSV file name:  Agri_ADM1_NDVI_LST_Precip_SPI_SSM_2017-01-01_2024-03-01.csv\n",
            "Newest date in current CSV:  2024-03\n",
            "Number of rows of the current table: 1566\n",
            "Number of rows of the data to add: 36 \n",
            "Number of rows of merged table: 1602\n",
            "New CSV file name:  Agri_ADM1_NDVI_LST_Precip_SPI_SSM_2017-01-01_2024-05-01.csv\n",
            "Updated CSV table saved to gdrive folder  \u001b[3m/drive/My Drive/Climate_monitoring/climate_indicator_time_series_monthly/\u001b[0m\n",
            " \n",
            "\u001b[1mAgri_ADM2\u001b[0m\n",
            "Current CSV file name:  Agri_ADM2_NDVI_LST_Precip_SPI_SSM_2017-01-01_2024-03-01.csv\n",
            "Newest date in current CSV:  2024-03\n",
            "Number of rows of the current table: 3915\n",
            "Number of rows of the data to add: 90 \n",
            "Number of rows of merged table: 4005\n",
            "New CSV file name:  Agri_ADM2_NDVI_LST_Precip_SPI_SSM_2017-01-01_2024-05-01.csv\n",
            "Updated CSV table saved to gdrive folder  \u001b[3m/drive/My Drive/Climate_monitoring/climate_indicator_time_series_monthly/\u001b[0m\n",
            " \n"
          ]
        }
      ]
    },
    {
      "cell_type": "markdown",
      "source": [
        "## Groundwater\n",
        "\n",
        "Time series starts in 2003"
      ],
      "metadata": {
        "id": "WPEZbzeFkBYP"
      }
    },
    {
      "cell_type": "markdown",
      "source": [
        "**Test aggregation before joining indicator feature collections and running export**"
      ],
      "metadata": {
        "id": "0-9mTmD1i-kN"
      }
    },
    {
      "cell_type": "code",
      "source": [
        "# Test aggregation before running export.\n",
        "AOI_name_test = 'ADM1' # 'ADM1', 'ADM2', 'ADM3', 'Hex', 'Agri_ADM1', 'Agri_ADM2', 'Agri_NES_NWS'\n",
        "\n",
        "AOI_test = aoi_dict[AOI_name_test]['AOI']\n",
        "aggr_scale_test = aoi_dict[AOI_name_test]['aggr_scale']\n",
        "ee_selected_props = aoi_dict[AOI_name_test]['property_selectors']\n",
        "\n",
        "fc = aggregate_to_fc_flattened_mean(gws_anom_monthly, AOI_test, aggr_scale_test, start_date_gws_export, last_date_gws_export, ee_selected_props, 'GWS')\n",
        "\n",
        "try:\n",
        "  print('First polygon of feature collection: ', fc.first().getInfo())\n",
        "  print('Aggregation worked')\n",
        "except:\n",
        "  print('Aggregation failed')"
      ],
      "metadata": {
        "colab": {
          "base_uri": "https://localhost:8080/",
          "height": 73
        },
        "outputId": "a1d3aba7-7f19-4bf8-b351-e541fecd238f",
        "id": "oQva_ixqi-kU"
      },
      "execution_count": null,
      "outputs": [
        {
          "output_type": "display_data",
          "data": {
            "text/plain": [
              "<IPython.core.display.HTML object>"
            ],
            "text/html": [
              "\n",
              "            <style>\n",
              "                .geemap-dark {\n",
              "                    --jp-widgets-color: white;\n",
              "                    --jp-widgets-label-color: white;\n",
              "                    --jp-ui-font-color1: white;\n",
              "                    --jp-layout-color2: #454545;\n",
              "                    background-color: #383838;\n",
              "                }\n",
              "\n",
              "                .geemap-dark .jupyter-button {\n",
              "                    --jp-layout-color3: #383838;\n",
              "                }\n",
              "\n",
              "                .geemap-colab {\n",
              "                    background-color: var(--colab-primary-surface-color, white);\n",
              "                }\n",
              "\n",
              "                .geemap-colab .jupyter-button {\n",
              "                    --jp-layout-color3: var(--colab-primary-surface-color, white);\n",
              "                }\n",
              "            </style>\n",
              "            "
            ]
          },
          "metadata": {}
        },
        {
          "output_type": "stream",
          "name": "stdout",
          "text": [
            "First polygon of feature collection:  {'type': 'Feature', 'geometry': None, 'id': '0_00000000000000000000', 'properties': {'ADM1_EN': 'Aleppo (NES)', 'ADM1_PCODE': 'SY02', 'Date': '2003-02', 'GWS': 95.90199559719647, 'ID_comb': '0_2003-02', 'MASTER_ID': 0, 'region': 'NES'}}\n",
            "Aggregation worked\n"
          ]
        }
      ]
    },
    {
      "cell_type": "markdown",
      "source": [
        "**Export**"
      ],
      "metadata": {
        "id": "ngLeUknL3RP7"
      }
    },
    {
      "cell_type": "code",
      "source": [
        "# Start and end date for monthly indicators (end date is inclusive)\n",
        "start = start_date_gws_export\n",
        "end = last_date_gws_export\n",
        "\n",
        "print('Selected start date: ', start)\n",
        "print('Selected end date: ', end)\n",
        "\n",
        "\n",
        "for i in AOI_names:\n",
        "  print(color.BOLD + i + color.END)\n",
        "\n",
        "  ee_selected_props = aoi_dict[i]['property_selectors'] # ee.List\n",
        "  AOI = aoi_dict[i]['AOI'].select(ee_selected_props) # ee.FeatureCollection\n",
        "  aggr_scale = aoi_dict[i]['aggr_scale'] # integer\n",
        "\n",
        "  # Aggregate pixel values to mean values for each polygon\n",
        "  fc_gws_monthly = aggregate_to_fc_flattened_mean(gws_anom_monthly, AOI, aggr_scale, start_gws, end_gws, ee_selected_props, 'GWS')\n",
        "\n",
        "  property_names = ['Date', row_id] + ee_selected_props.getInfo() # list\n",
        "  # print('Property names: ', property_names)\n",
        "  column_names_new_data = property_names + ['GWS']\n",
        "  # print('Column names new table', column_names_new_data)\n",
        "\n",
        "\n",
        "  file_name = i + '_' + 'GWS' + '_' + start + '_' + end\n",
        "  print('CSV file name: ', file_name)\n",
        "\n",
        "  # Export table as csv to drive\n",
        "  task = ee.batch.Export.table.toDrive(\n",
        "      collection = fc_gws_monthly,\n",
        "      description = file_name,\n",
        "      folder = gdrive_output_folder_new_table,\n",
        "      fileFormat = 'CSV',\n",
        "      selectors = column_names_new_data,\n",
        "  )\n",
        "  task.start()\n",
        "  print('CSV table exportig to gdrive folder: ' + color.ITALIC + gdrive_output_folder_new_table + color.END)\n",
        "  print(' ')\n"
      ],
      "metadata": {
        "id": "eQxMRODnmdhA",
        "colab": {
          "base_uri": "https://localhost:8080/",
          "height": 491
        },
        "outputId": "622409e6-0acb-49e8-8611-5aadfda0fe29"
      },
      "execution_count": null,
      "outputs": [
        {
          "output_type": "display_data",
          "data": {
            "text/plain": [
              "<IPython.core.display.HTML object>"
            ],
            "text/html": [
              "\n",
              "            <style>\n",
              "                .geemap-dark {\n",
              "                    --jp-widgets-color: white;\n",
              "                    --jp-widgets-label-color: white;\n",
              "                    --jp-ui-font-color1: white;\n",
              "                    --jp-layout-color2: #454545;\n",
              "                    background-color: #383838;\n",
              "                }\n",
              "\n",
              "                .geemap-dark .jupyter-button {\n",
              "                    --jp-layout-color3: #383838;\n",
              "                }\n",
              "\n",
              "                .geemap-colab {\n",
              "                    background-color: var(--colab-primary-surface-color, white);\n",
              "                }\n",
              "\n",
              "                .geemap-colab .jupyter-button {\n",
              "                    --jp-layout-color3: var(--colab-primary-surface-color, white);\n",
              "                }\n",
              "            </style>\n",
              "            "
            ]
          },
          "metadata": {}
        },
        {
          "output_type": "stream",
          "name": "stdout",
          "text": [
            "Selected start date:  2003-02-01\n",
            "Selected end date:  2023-03-01\n",
            "\u001b[1mADM1\u001b[0m\n",
            "CSV file name:  ADM1_GWS_2003-02-01_2023-03-01\n",
            "CSV table exportig to gdrive folder: \u001b[3mclimate_indicator_time_series_monthly\u001b[0m\n",
            " \n",
            "\u001b[1mADM2\u001b[0m\n",
            "CSV file name:  ADM2_GWS_2003-02-01_2023-03-01\n",
            "CSV table exportig to gdrive folder: \u001b[3mclimate_indicator_time_series_monthly\u001b[0m\n",
            " \n",
            "\u001b[1mADM3\u001b[0m\n",
            "CSV file name:  ADM3_GWS_2003-02-01_2023-03-01\n",
            "CSV table exportig to gdrive folder: \u001b[3mclimate_indicator_time_series_monthly\u001b[0m\n",
            " \n",
            "\u001b[1mHex\u001b[0m\n",
            "CSV file name:  Hex_GWS_2003-02-01_2023-03-01\n",
            "CSV table exportig to gdrive folder: \u001b[3mclimate_indicator_time_series_monthly\u001b[0m\n",
            " \n",
            "\u001b[1mAgri_ADM1\u001b[0m\n",
            "CSV file name:  Agri_ADM1_GWS_2003-02-01_2023-03-01\n",
            "CSV table exportig to gdrive folder: \u001b[3mclimate_indicator_time_series_monthly\u001b[0m\n",
            " \n",
            "\u001b[1mAgri_ADM2\u001b[0m\n",
            "CSV file name:  Agri_ADM2_GWS_2003-02-01_2023-03-01\n",
            "CSV table exportig to gdrive folder: \u001b[3mclimate_indicator_time_series_monthly\u001b[0m\n",
            " \n"
          ]
        }
      ]
    },
    {
      "cell_type": "code",
      "source": [],
      "metadata": {
        "id": "YFAN-z8Y4D_4"
      },
      "execution_count": null,
      "outputs": []
    }
  ],
  "metadata": {
    "colab": {
      "provenance": [],
      "toc_visible": true,
      "collapsed_sections": [
        "X4bROerbe_no"
      ]
    },
    "kernelspec": {
      "display_name": "Python 3",
      "name": "python3"
    },
    "language_info": {
      "name": "python"
    }
  },
  "nbformat": 4,
  "nbformat_minor": 0
}